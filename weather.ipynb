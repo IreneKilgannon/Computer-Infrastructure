{
 "cells": [
  {
   "cell_type": "markdown",
   "metadata": {},
   "source": [
    "![Task 8](img/task8.png)\n",
    "\n",
    "# __Task 8: weather.ipynb__\n",
    "\n",
    "__Brief:__ Create a notebook called `weather.ipynb` at the root of your repository. Write a brief report explaining how you completed Tasks 1 to 7. Provide short descriptions of the commands used in each task and explain their role in completing the tasks.\n",
    "\n",
    "Author: Irene Kilgannon"
   ]
  },
  {
   "cell_type": "code",
   "execution_count": 23,
   "metadata": {},
   "outputs": [],
   "source": [
    "# Import the required modules\n",
    "import pandas as pd\n",
    "import matplotlib.pyplot as plt\n",
    "import seaborn as sns\n",
    "import datetime as dt\n",
    "#import glob\n",
    "import matplotlib.dates as mdates\n",
    "from matplotlib.dates import DateFormatter"
   ]
  },
  {
   "cell_type": "markdown",
   "metadata": {},
   "source": [
    "## Why Use GitHub Codespaces?\n",
    "\n",
    "For this assessment the terminal/shell of Visual Studio Code in [Github Codespaces](https://docs.github.com/en/codespaces) was used to run the commands. GitHub Codespaces launches a fully featured Visual Studio Code on a remote computer. Regardless of the local operating system, GitHub Codespaces runs in an Ubuntu Linux environment. Linux is a kernel, the core of an operating system that interacts with your hardware. Linux is free, open source and can be configured to the users specifications. Ubuntu is a flavour of Linux and is the most popular Linux distribution.\n",
    "\n",
    "With GitHub Codespaces, a Bash shell is opened by default. Bash is a shell program, found in the bin directory and it provides a command line interface for interacting with the operating system. When a command is entered in the command line interface, it is interpreted by the shell and executed by the operating system. Bash is much more than a simple command/response system. It also a programming language that allows users to create bash scripts to automate tasks. Task 7 of this assignment involves writing a Bash script. This youtube video, [Bash in 100 seconds](https://www.youtube.com/watch?v=I4EWvMFj37g) and this [reddit post](https://www.reddit.com/r/learnprogramming/comments/r4or28/can_someone_please_explain_what_a_bash_and_shell/) explain what Bash and shell is.\n",
    "\n",
    "__Tips__\n",
    "\n",
    "- Typically, the terminal is usually on the bottom of the screen, to have a larger terminal area, in Command Prompt use: `Terminal: Create New Terminal in Editor Area`. \n",
    "\n",
    "- When a shell is used interactively, it displays a $ while waiting for a command from the user. \n",
    "\n",
    "- Even though you are working in GitHub Codespaces, your work is not automatically pushed to your GitHub repository. Regular commits of your work still need to be pushed to your GitHub repository in the usual manner. \n",
    "\n",
    "Pushing to GitHub\n",
    "\n",
    "```python\n",
    "git .\n",
    "git commit -m \"your commit message\"\n",
    "git push\n",
    "```\n",
    "\n",
    "- To ensure your repository and GitHub Codespaces are in sync a  `git pull` from the repository is required. \n",
    "\n",
    "\n",
    "__Additional References__\n",
    "\n",
    "[GitHub Codespaces](https://code.visualstudio.com/docs/remote/codespaces)\n",
    "\n",
    "[Bash scripting tutorial - Linux Shell script & command line for beginners](https://www.freecodecamp.org/news/bash-scripting-tutorial-linux-shell-script-and-command-line-for-beginners/)"
   ]
  },
  {
   "cell_type": "markdown",
   "metadata": {},
   "source": [
    "## Task 1: Create Directory Structure\n",
    "\n",
    "__Brief:__ Using the command line, create a directory named `data` at the root of your repository. Inside `data`, create two subdirectories: `timestamps` and `weather`.\n",
    "\n",
    "|__Command Name:__|`mkdir`|\n",
    "|:---|:---|\n",
    "|__Purpose of the Command:__|To create new directories. `mkdir` stands for 'make directory'.|\n",
    "|__Command Syntax:__ | `mkdir` [options] [directory name/subdirectory]|\n",
    "\n",
    "\n",
    "The data directory and weather subdirectory can be created with the command `mkdir -p data/weather`. The options (or flags) associated with `mkdir` are discussed in this blog by [geeksforgeeks.org](https://www.geeksforgeeks.org/mkdir-command-in-linux-with-examples/). The `-p` flag creates the parent directory, which in this case is the `data` directory, if it is not already present. This command could be run a second time changing the subdirectory name to timestamps to complete the brief. However, to create multiple subdirectories inside a directory the following command from [howtogeek.com](https://www.howtogeek.com/275069/how-to-create-multiple-subdirectories-with-one-linux-command/) was used:\n",
    "\n",
    "    $ mkdir -p data/{timestamps,weather}\n",
    "\n",
    "The subdirectories are listed inside the curly braces and there must be no space between subdirectory names. \n",
    "\n",
    "To confirm that the data directory and the subdirectories were created the `ls` command was then used. The `ls` command lists the visible files in the current working directory. To view all the files including the hidden files the command `ls -a` is used. \n",
    "\n",
    "|__Command Name:__|`ls`||\n",
    "|:---|:---|:---|\n",
    "|__Purpose of the Command:__|To list the visible contents in the current directory. ||\n",
    "|__Command Syntax:__ | `ls` [options] ||\n",
    "|__Some Useful Options__| -a| List all files including hidden files|\n",
    "||-l|Gives a long listing of the files|\n",
    "|__Reference__||https://www.geeksforgeeks.org/ls-command-in-linux/|\n",
    "\n",
    "To change to a different directory the `cd` command (which stands for 'change directory') is used. To view the files inside the `data` directory, the `cd` command was used to change into the `data` directory. \n",
    "\n",
    "|__Command Name:__|`cd`||\n",
    "|:---|:---|:---|\n",
    "|__Purpose of the Command:__|To change directory.||\n",
    "|__Command Syntax:__ | `cd` [directory name] ||\n",
    "|__Additional Information__| `cd` ..| To move up one level from the current directory|\n",
    "||`cd .` |The current directory|\n",
    "||`cd` /|To change to the root directory|\n",
    "|__Reference__||https://www.geeksforgeeks.org/cd-command-in-linux-with-examples/|\n",
    "\n",
    "The use of `ls` and `cd` is demonstrated in the image below.\n",
    "\n",
    "![Task 1](img/task1.png)\n",
    "\n",
    "To remove an empty directory the `rmdir` command is used. You must be in the parent directory of the directory you wish to remove.\n",
    "\n",
    "|__Command Name:__|`rmdir`||\n",
    "|:---|:---|:---|\n",
    "|__Purpose of the Command:__|To delete an empty directory.||\n",
    "|__Command Syntax:__ | `rmdir` [options] [directory name] ||\n",
    "|__Some Useful Options__| -p| Removes the directory along with its parent|\n",
    "|__Reference__||https://www.geeksforgeeks.org/how-to-remove-directory-in-linux/|\n",
    "\n",
    "\n",
    "__Additional References__\n",
    "\n",
    "[ubuntu, command line for beginners, creating folders and files](https://ubuntu.com/tutorials/command-line-for-beginners#4-creating-folders-and-files)\n",
    "\n",
    "[redhat.com, Create, delete files and directories](https://www.redhat.com/en/blog/create-delete-files-directories-linux)\n",
    "\n",
    "[ibm.com, ls command](https://www.ibm.com/docs/en/aix/7.3?topic=l-ls-command) "
   ]
  },
  {
   "cell_type": "markdown",
   "metadata": {},
   "source": [
    "## Task 2: Timestamps\n",
    "\n",
    "__Brief:__ Navigate to the `data/timestamps` directory. Use the `date` command to output the current date and time, appending the output to a file named `now.txt`. Use the `>>` operator to append (not overwrite) the file. Repeat this step ten times, then use the `more` command to verify that `now.txt` has the expected content.\n",
    "\n",
    "|__Command Name:__|`date`||\n",
    "|:---|:---|:---|\n",
    "|__Purpose of the Command:__|To display the system time and date.||\n",
    "|__Command Syntax:__ | `date` [options] [+FORMAT]||\n",
    "|__Some Options__|-u| Display time in universal time (UTC)|\n",
    "||-Z [timezone]|Display time in a specified timezone|\n",
    "\n",
    "This [article on geeksforgeeks.org](https://www.geeksforgeeks.org/date-command-linux-examples/) has a nice synopsis of the uses of the date command. It explains the basics from how to display past dates and also how to use the format specifiers that will be used in Task 3.\n",
    "\n",
    "The image below demonstrates the output of the date command, showing the day, date, time and time zone. \n",
    "\n",
    "![Date command](img/task2date.png)\n",
    "\n",
    "The output of a command can be appended to a file with the append operator, `>>`. If the file does not exist a new file will be created. To append the date and time to a file the syntax is:\n",
    "`date >> filename` as shown in the image below.\n",
    "\n",
    "The date command was run 10 times and the output was appended to now.txt. To avoid typing \"more >> now.txt\" ten times, on the keyboard use the up arrow and press enter to run the command!\n",
    "\n",
    "![Task 2](img/task2.png)\n",
    "\n",
    "When writing the output to a file, it is important to choose the correct operator. There is a similar operator to the `>>` operator, the `>` operator. It has a similar function to the `>>` operator in that it writes content to a file but there is one significant difference between them. With `>`, the contents of the file are \n",
    "overwritten, `>>` appends the output to the file. `>` and `>>` are called [redirection operators](https://www.freecodecamp.org/news/linux-terminal-piping-and-redirection-guide/). These redirection\n",
    "operators and other common operators are discussed in this [blog](https://www.makeuseof.com/linux-command-line-chaining-operators/).\n",
    "\n",
    "The `more` command was used to verify that now.txt contained the expected output of the date and time. \n",
    "\n",
    "|__Command Name:__|`more`||\n",
    "|:---|:---|:---|\n",
    "|__Purpose of the Command:__|Reads files and displays the contents of a file in the command line one screen at a time.||\n",
    "|__Command Syntax:__ | `more` [options] [filename]||\n",
    "|__Additional Information__|Enter key|Scrolls down one line at a time|\n",
    "||Space bar|Moves to the next page or screen|\n",
    "||'q' key|Quit the command and exit the view|\n",
    "|__Reference__||https://www.geeksforgeeks.org/more-command-in-linux-with-examples/|\n",
    "\n",
    "![Task 2a](img/task2more.png)\n",
    "\n",
    "\n",
    "__Additional References__\n",
    "\n",
    "https://www.tutorialspoint.com/date-command-in-linux\n",
    "\n",
    "https://medium.com/@riddhijani181/date-command-in-linux-308b64014dd3\n",
    "\n",
    "[linux operators](https://www.networkworld.com/article/2516127/linux-operators-using-and-many-more.html)"
   ]
  },
  {
   "cell_type": "markdown",
   "metadata": {},
   "source": [
    "## Task 3: Formatted Timestamps\n",
    "\n",
    "__Brief:__ Run the `date` command again, format the output using `YYYYmmdd_HHMMSS` (e.g. 20261114_130003 for 1:00:03 PM on November 14, 2026). Append the formatted output to a file named `formatted.txt`. Refer to the `date` man page (using `man date`) for more formatting options.\n",
    "\n",
    "|__Command Name:__|`man`|\n",
    "|:---|:---|\n",
    "|__Purpose of the Command:__|The `man` command, which is short for manual, is used to get additional information about a command.|\n",
    "|__Command Syntax:__ |`man` command|\n",
    "|__Additional Information__|Press q to quit|\n",
    "\n",
    "![command line with man](img/task3a.png)\n",
    "\n",
    "For example the date `man` page contains information on formatting options for the date along with the options that are associated with `date`.\n",
    "\n",
    "<img src=\"img/task3man.png\" alt=\"Snippet of man date page\" width=\"700\"/>\n",
    "\n",
    "From Task 2, we saw that the syntax to format the date command is:\n",
    "\n",
    "    `date` [options] [+FORMAT]\n",
    "\n",
    "For example, to see the abbreviated weekday name the format sequence, %a is used. This [blog post from phoenixnap.com](https://phoenixnap.com/kb/linux-date-command) was particularly helpful in explaining the scope of the date command. For this task the date should be formatted as YYYYmmdd_HHMMSS and the format for this is %Y%m%d_%H%M%S. \n",
    "\n",
    "In the image the command of `date +\"%Y%m%d_%H%M%S\"` outputs the date with the desired format to the screen. For the second command the output of the date command has been written to formatted.txt with the use of `>>`.\n",
    "\n",
    "![Task 3](img/task3.png)\n",
    "\n",
    "The more command was used to view the contents of formatted.txt. The date was written to formatted.txt in the desired format.\n",
    "\n",
    "![Output task 3](img/task3output.png)\n",
    "\n",
    "__Additional References__\n",
    "\n",
    "https://www.redhat.com/en/blog/formatting-date-command"
   ]
  },
  {
   "cell_type": "markdown",
   "metadata": {},
   "source": [
    "## Task 4: Create Timestamped Files\n",
    "\n",
    "__Brief:__ Use the `touch` command to create an empty file with a name in the `YYYYmmdd_HHMMSS.txt` format. You can achieve this by embedding your date command in backticks into the `touch` command. You should no longer use redirection (>>) in this step.\n",
    "\n",
    "|__Command Name:__|`touch`||\n",
    "|:---|:---|:---|\n",
    "|__Purpose of the Command:__|Used to create an empty file and to update the timestamps of existing files||\n",
    "|__Command Syntax:__ |`touch` [options] [filename]||\n",
    "|__Some Options__|-a |Update the access time|\n",
    "||-m|Updates the modification time|\n",
    "|__Reference__||https://www.geeksforgeeks.org/touch-command-in-linux-with-examples/|\n",
    "\n",
    "Backticks are officially referred to as [command substitution](https://pubs.opengroup.org/onlinepubs/9699919799/utilities/V3_chap02.html#tag_18_06_03). Command substitution allows the output of a command to replace the command itself. While researching the function and uses of backticks, I found this discussion on [reddit](https://www.reddit.com/r/bash/comments/w3jqlz/do_you_prefer_backticks_or_parentheses_for/) that discusses the use of backticks. It appears that a newer syntax of `$()` should be used instead of backticks. `$()` can simplify the code and it avoids the [issues that the use of backticks can create](https://www.redhat.com/en/blog/backtick-operator-vs-parens). Difficulties can arise if the command that is embedded with backticks contains backticks. Backticks will be used for this task as that was the instruction given by the brief.\n",
    "\n",
    "It is worth mentioning that when the name of a file is a timestamp formatted as YYYYmmdd_HHMMSS the files will be listed numerically, which is the same as by the date in the directory.\n",
    "\n",
    "For this task, the `touch` command will create the new file and embedding the formatted date command in backticks will give the file the desired name as a timestamp.\n",
    " \n",
    "![Task 4 touch command](img/task4_corrected.png)\n",
    "\n",
    "To confirm that a file has been created with a timestamp name, the `ls -al` command was used in the timestamps directory. The file 20241022_124153.txt was created by this command. `ls -al` shows that the file is empty with size of 0 and this was confirmed by the `more` command. No output was written to the terminal.\n",
    "\n",
    "![Task4 ls -al and more](img/task4lsmore.png)\n",
    "\n",
    "__Additional References__\n",
    "\n",
    "https://www.serveracademy.com/blog/how-to-use-the-touch-command-in-linux/"
   ]
  },
  {
   "cell_type": "markdown",
   "metadata": {},
   "source": [
    "## Task 5: Download Today's Weather Data\n",
    "\n",
    "__Brief:__ Change to the `data/weather directory`. Download the latest weather data for the Athenry weather station from Met Éireann using `wget`. Use the `-O <filename>` option to save the file as `weather.json`. The data can be found at this URL: `https://prodapi.metweb.ie/observations/athenry/today`.\n",
    "\n",
    "\n",
    "|__Command Name:__|`wget`||\n",
    "|:---|:---|:---|\n",
    "|__Purpose of the Command:__|Download files from the internet via HTTP, HTTPS and FTP protocols. ||\n",
    "|__Command Syntax:__ |`wget` [option] [URL]||\n",
    "|__Some Options__|-O filename |O for output. Allows the output to be redirected to a particular file|\n",
    "||-b|Download a file in the background|\n",
    "\n",
    "`wget` is short for \"world wide web get\". It can work in the background while the user is not logged on. In addition, if a text file contains a list of urls, it can download multiple files at once.\n",
    "\n",
    "The `-O <filename>` or --output-document=_file_ allows the output to be redirected to a particular file, which in this case is weather.json. \n",
    "\n",
    "\n",
    "![Task 5](img/task5.png)\n",
    "\n",
    "When we run the command we can see that the file has been downloaded from the url and saved to weather.json in the weather directory.\n",
    "\n",
    "__Additional References__\n",
    "\n",
    "[wget command in linux](https://www.geeksforgeeks.org/wget-command-in-linux-unix/)\n",
    "\n",
    "[What is the wget command and how to use it (12 examples included)](https://www.hostinger.com/tutorials/wget-command-examples/)\n",
    "\n",
    "[How to use the wget command in linux](https://medium.com/@learntheshell/how-to-use-the-wget-command-in-linux-b727c1f4d91c)"
   ]
  },
  {
   "cell_type": "markdown",
   "metadata": {},
   "source": [
    "## Task 6: Timestamp the Data\n",
    "\n",
    "__Brief:__ Modify the command from Task 5 to save the downloaded file with a timestamped name in the format `YYYYmmdd_HHMMSS.json`\n",
    "\n",
    "To save the file with a timestamped name, the date command, embedded in backticks `date +\"%Y%m%d_%H%M%S.json\"` is used. This is similar to the command for Task 4 but this time the file will be saved as a json file.\n",
    "\n",
    "The filename after the flag, -O was changed from weather.json to `date +\"%Y%m%d_%H%M%S.json\"`, as shown in the image below.\n",
    "\n",
    "![Task 6](img/task6.png)\n",
    "\n",
    "When the command was run, the progress of the `wget` command with connecting to the Met Éireann website was displayed. It also displays the name of the formatted timestamped file, 20241028_123027.json that was created."
   ]
  },
  {
   "cell_type": "markdown",
   "metadata": {},
   "source": [
    "## Task 7: Write the Script\n",
    "\n",
    "__Brief:__ Write a bash script called `weather.sh` in the root of your repository. This script should automate the process from Task 6, saving the weather data to the `data/weather` directory. Make the script executable and test it by running it.\n",
    "\n",
    "A [bash script](https://www.datacamp.com/tutorial/how-to-write-bash-script-tutorial?) is a plain text file with a sequence of commands for a Linux system. Bash scripts have a .sh file extension. It is used to group commands together so that tasks do not have to be repeatedly manually written. The first line of a bash script always contains the \"shebang\", #!. The shebang is followed by the absolute path of the interpreter that should be used to execute the script. For this script the shebang is followed by the absolute path to bash, /bin/bash so it is telling the terminal that bash should be used to execute the script. The subsequent lines in the script are the commands that we want to run. For this bash script we want to automate the process from Task 6, where the `wget` command was used to download today's weather. The bash script, weather.sh is shown in the image below. \n",
    "\n",
    "![Bash script image](img/task7_bash.png)\n",
    "\n",
    "Running the date command before and after `wget` is helpful as we can see the time and date the command started and finished running at. The `echo` command displays lines of text or strings. According to [geeksforgeeks](https://www.geeksforgeeks.org/echo-command-in-linux-with-examples/) it is commonly used in shell scripts and batch files to output the status text to the screen or file. For weather.sh the `echo` command is used to explain what is happening in the script. \n",
    "\n",
    "The script will then need to be made executable. As `weather.sh` is in the root of the repository, when the `ls -al` command is ran we see a long listing with all the details of the files and directories in the repository. \n",
    "\n",
    "The first letter of the output gives information on the file type or directory. A 'd' indicates a directory and a dash, - indicates an ordinary file. Weather.sh has a -, indicating that it is an ordinary file. \n",
    "\n",
    "Following that there are the permissions for each file, divided into 3 permission groups, the user (owner), the group and other. Permissions are indicated by r (read), w (write), x (execute) or - (permission not granted). For `weather.sh` the permissions are -rw-rw-rw, meaning that the user, group and others all have permission to read and write to the file. As there is no x in the permissions, the file is not executable by anyone. \n",
    "\n",
    "![How do I know it's not executable?](img/task7a.png)\n",
    "\n",
    "To prove that it is not executable, I attempted to run weather.sh in the command line. The output was 'Permission denied'.\n",
    "\n",
    "![Permission denied](img/task7permissiondenied.png)\n",
    "\n",
    " To make it executable `chmod`, which stands for change mode is used.\n",
    "\n",
    "|__Command Name:__|`chmod`||\n",
    "|:---|:---|:---|\n",
    "|__Purpose of the Command:__|Allows an administrator to set or modify a file's permissions||\n",
    "|__Command Syntax:__ |`chmod` [reference] [operator] [mode] [filename]||\n",
    "|__Options__|reference |u: user; g: group; o: others; a: all|\n",
    "||operators |+: add permissions; -: remove permissions; =: set a permission and remove others|\n",
    "||mode |r: read; w: write; x: execute|\n",
    "|__Don't Do This!__|`chmod` 777 [filename]|All users get full permissions|\n",
    "|__Reference__||https://en.wikipedia.org/wiki/Chmod|\n",
    "\n",
    "\n",
    "For weather.sh we want to make it executable by the owner so u+x is the combination of reference, operator and mode used. It is also possible to list the options numerically. These two short youtube videos [chmod Command Tutorial - Linux Permissions Made Easy](https://www.youtube.com/watch?v=SCdAvU46ZUc) and [Linux File Permissions in 5 minutes](https://www.youtube.com/watch?v=LnKoncbQBsM) do a great job of explaining how to change permissions with a numeric reference. For this task the numeric code would be 766, which would change the users permissions to execute the script and keep the group and other's permissions the same.\n",
    "\n",
    "![Make it executable](img/task7permissionchanged.png)\n",
    "\n",
    "After running `chmod` command on weather.sh, the permissions now read -rwxrw-rw-. The user will now be able to execute the script, and the image below shows the output of the running weather.sh. Adding the `date` and `echo` command before and after running `wget` was helpful to see the progress of the download.\n",
    "\n",
    "![Task 7](img/task7c.png)\n",
    "\n",
    "__Additional References__\n",
    "\n",
    "[How to Use the chmod Command on Linux](https://www.geeksforgeeks.org/chmod-command-linux/)"
   ]
  },
  {
   "cell_type": "markdown",
   "metadata": {},
   "source": [
    "## Task 9: pandas\n",
    "\n",
    "__Brief:__ In weather.ipynb, use pandas read_json() to load in any one of the weather data files that were downloaded with the script. Examine and summarize the data. See the information provided by [data.gov.ie](https://data.gov.ie/dataset/todays-weather-athenry) to write a short explanation of what the data set contains.\n",
    "\n",
    "\n",
    "It was mentioned in one of the lectures that you could merge some of the json files for this task. So for this analysis seven days of data from 20th November to the 26th November 2024 inclusive was be examined. There was a red weather warning for Storm Bert during this time period. The json files of interest were downloaded and pushed to the repository using the GitHub Actions workflow."
   ]
  },
  {
   "cell_type": "markdown",
   "metadata": {},
   "source": [
    "### Short explanation of the data set from [data.gov.ie](https://data.gov.ie/dataset/todays-weather-athenry)\n",
    "\n",
    "![Weather station in Athenry](https://www.met.ie/cms/assets/uploads/2017/12/athenry.jpg)\n",
    "\n",
    "_Image: Weather Station in Athenry (from met.ie)_\n",
    "\n",
    "This data set is published by Met Éireann, the Irish National Meteorological Service. They have numerous [weather stations](https://www.met.ie/climate/the-national-observing-network/) throughout the Republic of Ireland and this data set contains the weather observations for the current day for the automatic weather station in Athenry, Co. Galway. The file is in json format and updated hourly. The temperature (deg Celsius), weather description, wind speed (in knots), wind direction and rainfall (mm) are some of the observations that are recorded every hour on the hour along with the time and date. To view [yesterday's weather](https://data.gov.ie/dataset/yesterdays-weather-athenry/resource/0e482a49-c71f-49d9-b9ae-ccedfded126f) a different link is required and the yesterday's weather file is updated daily."
   ]
  },
  {
   "cell_type": "code",
   "execution_count": 24,
   "metadata": {},
   "outputs": [],
   "source": [
    "# Set style for plots\n",
    "plt.style.use(style= 'seaborn-v0_8')"
   ]
  },
  {
   "cell_type": "markdown",
   "metadata": {},
   "source": [
    "### Organizing the Data\n",
    "\n",
    "__Merge the json Files__\n",
    "\n",
    "The first step is to merge the seven json files of interest into one file. \n",
    "\n",
    "Glob is a built-in module used to retrieve files/pathnames that match a specified pattern. It uses wild cards such as * and ? to make path retrieval more convenient. Glob style wildcards appear similar to regular expressions but there are two very different things according to [askubuntu](https://askubuntu.com/questions/714503/regular-expressions-vs-filename-globbing/714520#714520).  \n",
    "\n",
    "With glob multiple files can be read into pandas. [Real python](https://realpython.com/get-all-files-in-directory-python/#conditional-listing-using-glob) states that glob.glob() returns a list of filenames that match a pattern. \n",
    "\n",
    "```python\n",
    "# Search for all json files in the current working directory\n",
    "# Wild card * means match all\n",
    "import glob\n",
    "glob.glob('*.json')\n",
    "```\n",
    "\n",
    "The seven files of interest were merged on the 26th November 2024 and all have the hour as 10 in the file name. The glob wildcard, ? means match one character.\n",
    "\n",
    "The following cells have been coded out after the json files of interest were read into python and merged into one file. Otherwise the new files created by the GitHub Actions workflow would be added to the data set every time these cells were executed."
   ]
  },
  {
   "cell_type": "code",
   "execution_count": 25,
   "metadata": {},
   "outputs": [],
   "source": [
    "# Use glob to find json files that have the hour as 10\n",
    "#json_files = glob.glob('data/weather/????????_10*.json')\n",
    "#print(\"Files detected:\", json_files)"
   ]
  },
  {
   "cell_type": "code",
   "execution_count": 26,
   "metadata": {},
   "outputs": [],
   "source": [
    "# Load the json weather files and read them into pandas\n",
    "\n",
    "## Create an empty dataframe to store the combined data\n",
    "#weather_df = pd.DataFrame()\n",
    "\n",
    "## Loop through each json file and append its contents to the combined dataframe\n",
    "#for json_file in json_files:\n",
    "#    df = pd.read_json(json_file)\n",
    "     # Concatenate df to weather_df\n",
    "#    weather_df = pd.concat([weather_df, df], ignore_index= True)\n",
    "#\n",
    "#weather_df.head()"
   ]
  },
  {
   "cell_type": "markdown",
   "metadata": {},
   "source": [
    "The merged dataset was written to a csv file, which will be loaded into pandas and used for analysis. I chose to create a csv file of the merged json files as the [read_csv](https://pandas.pydata.org/docs/reference/api/pandas.read_csv.html) function as more functionality than [read_json](https://pandas.pydata.org/docs/reference/api/pandas.read_json.html). For example with read_csv() it is possible to parse and format dates, set the index and select only certain columns to read into pandas which are not possible with read_json(). "
   ]
  },
  {
   "cell_type": "code",
   "execution_count": 27,
   "metadata": {},
   "outputs": [],
   "source": [
    "# Write the merged data set to a csv file. This csv file will be used for analysis. \n",
    "#weather_df.to_csv('data/weather/athenry_weather.csv', index = False)"
   ]
  },
  {
   "cell_type": "code",
   "execution_count": 28,
   "metadata": {},
   "outputs": [
    {
     "data": {
      "text/html": [
       "<div>\n",
       "<style scoped>\n",
       "    .dataframe tbody tr th:only-of-type {\n",
       "        vertical-align: middle;\n",
       "    }\n",
       "\n",
       "    .dataframe tbody tr th {\n",
       "        vertical-align: top;\n",
       "    }\n",
       "\n",
       "    .dataframe thead th {\n",
       "        text-align: right;\n",
       "    }\n",
       "</style>\n",
       "<table border=\"1\" class=\"dataframe\">\n",
       "  <thead>\n",
       "    <tr style=\"text-align: right;\">\n",
       "      <th></th>\n",
       "      <th>name</th>\n",
       "      <th>temperature</th>\n",
       "      <th>symbol</th>\n",
       "      <th>weatherDescription</th>\n",
       "      <th>text</th>\n",
       "      <th>windSpeed</th>\n",
       "      <th>windGust</th>\n",
       "      <th>cardinalWindDirection</th>\n",
       "      <th>windDirection</th>\n",
       "      <th>humidity</th>\n",
       "      <th>rainfall</th>\n",
       "      <th>pressure</th>\n",
       "      <th>dayName</th>\n",
       "      <th>date</th>\n",
       "      <th>reportTime</th>\n",
       "    </tr>\n",
       "  </thead>\n",
       "  <tbody>\n",
       "    <tr>\n",
       "      <th>0</th>\n",
       "      <td>Athenry</td>\n",
       "      <td>1</td>\n",
       "      <td>02n</td>\n",
       "      <td>Fair</td>\n",
       "      <td>\"Fair\"</td>\n",
       "      <td>7</td>\n",
       "      <td>-</td>\n",
       "      <td>W</td>\n",
       "      <td>270</td>\n",
       "      <td>89</td>\n",
       "      <td>0.0</td>\n",
       "      <td>1008</td>\n",
       "      <td>Friday</td>\n",
       "      <td>2024-11-22</td>\n",
       "      <td>00:00</td>\n",
       "    </tr>\n",
       "    <tr>\n",
       "      <th>1</th>\n",
       "      <td>Athenry</td>\n",
       "      <td>1</td>\n",
       "      <td>02n</td>\n",
       "      <td>Fair</td>\n",
       "      <td>\"Fair\"</td>\n",
       "      <td>15</td>\n",
       "      <td>-</td>\n",
       "      <td>W</td>\n",
       "      <td>270</td>\n",
       "      <td>85</td>\n",
       "      <td>0.0</td>\n",
       "      <td>1008</td>\n",
       "      <td>Friday</td>\n",
       "      <td>2024-11-22</td>\n",
       "      <td>01:00</td>\n",
       "    </tr>\n",
       "    <tr>\n",
       "      <th>2</th>\n",
       "      <td>Athenry</td>\n",
       "      <td>2</td>\n",
       "      <td>05n</td>\n",
       "      <td>Rain showers</td>\n",
       "      <td>\"Moderate Rain shower\"</td>\n",
       "      <td>15</td>\n",
       "      <td>-</td>\n",
       "      <td>W</td>\n",
       "      <td>270</td>\n",
       "      <td>92</td>\n",
       "      <td>0.3</td>\n",
       "      <td>1008</td>\n",
       "      <td>Friday</td>\n",
       "      <td>2024-11-22</td>\n",
       "      <td>02:00</td>\n",
       "    </tr>\n",
       "    <tr>\n",
       "      <th>3</th>\n",
       "      <td>Athenry</td>\n",
       "      <td>1</td>\n",
       "      <td>02n</td>\n",
       "      <td>Fair</td>\n",
       "      <td>\"Fair\"</td>\n",
       "      <td>9</td>\n",
       "      <td>-</td>\n",
       "      <td>W</td>\n",
       "      <td>270</td>\n",
       "      <td>91</td>\n",
       "      <td>0.0</td>\n",
       "      <td>1008</td>\n",
       "      <td>Friday</td>\n",
       "      <td>2024-11-22</td>\n",
       "      <td>03:00</td>\n",
       "    </tr>\n",
       "    <tr>\n",
       "      <th>4</th>\n",
       "      <td>Athenry</td>\n",
       "      <td>1</td>\n",
       "      <td>02n</td>\n",
       "      <td>Fair</td>\n",
       "      <td>\"Fair\"</td>\n",
       "      <td>9</td>\n",
       "      <td>-</td>\n",
       "      <td>W</td>\n",
       "      <td>270</td>\n",
       "      <td>91</td>\n",
       "      <td>0.0</td>\n",
       "      <td>1008</td>\n",
       "      <td>Friday</td>\n",
       "      <td>2024-11-22</td>\n",
       "      <td>04:00</td>\n",
       "    </tr>\n",
       "  </tbody>\n",
       "</table>\n",
       "</div>"
      ],
      "text/plain": [
       "      name  temperature symbol weatherDescription                    text  \\\n",
       "0  Athenry            1    02n               Fair                  \"Fair\"   \n",
       "1  Athenry            1    02n               Fair                  \"Fair\"   \n",
       "2  Athenry            2    05n       Rain showers  \"Moderate Rain shower\"   \n",
       "3  Athenry            1    02n               Fair                  \"Fair\"   \n",
       "4  Athenry            1    02n               Fair                  \"Fair\"   \n",
       "\n",
       "   windSpeed windGust cardinalWindDirection  windDirection  humidity  \\\n",
       "0          7        -                     W            270        89   \n",
       "1         15        -                     W            270        85   \n",
       "2         15        -                     W            270        92   \n",
       "3          9        -                     W            270        91   \n",
       "4          9        -                     W            270        91   \n",
       "\n",
       "   rainfall  pressure dayName       date reportTime  \n",
       "0       0.0      1008  Friday 2024-11-22      00:00  \n",
       "1       0.0      1008  Friday 2024-11-22      01:00  \n",
       "2       0.3      1008  Friday 2024-11-22      02:00  \n",
       "3       0.0      1008  Friday 2024-11-22      03:00  \n",
       "4       0.0      1008  Friday 2024-11-22      04:00  "
      ]
     },
     "execution_count": 28,
     "metadata": {},
     "output_type": "execute_result"
    }
   ],
   "source": [
    "# Load the data into pandas\n",
    "df = pd.read_csv('data/weather/athenry_weather.csv',\n",
    "                parse_dates= ['date'],\n",
    "            )\n",
    "df.head()"
   ]
  },
  {
   "cell_type": "markdown",
   "metadata": {},
   "source": [
    "__Merge Date and reportTime columns__\n",
    "\n",
    "Usually new columns can be created by manipulating existing columns to create a new column. However when I tried to create one column called datetime from the date and reportTime columns there was a TypeError of unsupported operand type as shown below.\n",
    "\n",
    "```python\n",
    "df['datetime'] = df['date'] + df['reportTime']\n",
    "\n",
    "TypeError: unsupported operand type(s) for +: 'Timestamp' and 'str'\n",
    "```\n",
    "\n",
    "The reportTime columns had an object datatype, so the next step was to convert it to a datetime datatype. This modified the reportTime column to include the current date before the time! \n",
    "\n",
    "```python\n",
    "df['reportTime'] = pd.to_datetime(df['reportTime']) \n",
    "```\n",
    "\n",
    "Using the to_datetime method to convert multiple columns to a datetime as shown in this [blog](https://saturncloud.io/blog/how-to-convert-pandas-series-to-datetime-in-a-dataframe/#method-3-using-the-pdto_datetime-method-with-multiple-columns) also resulted in an error message. \n",
    "\n",
    "After many attempts to solve the problem, I resorted to chatGPT. There were two reasons for the error messages. The time in reportTime is recorded as HH:MM, not the standard format of HH:MM:SS and to convert reportTime column to a datetime datatype `to_timedelta()` was the function to use. As stated in the [documentation](https://pandas.pydata.org/docs/reference/api/pandas.to_datetime.html), `to_datetime()` expects to see a year, month and day in the column to be parsed. Datetime objects are specific points in time. Lesson learned, read the documentation first! \n",
    "\n",
    "[Timedelta is used for calculating time differences](https://www.datacamp.com/tutorial/timedelta-python-time-intervals). Timedelta is a data type within the datetime module use to represent durations or difference between two points in time. Using `to_timedelta` on reportTime converts it to a timedelta object where it views the time in the column as the time interval from 00:00. "
   ]
  },
  {
   "cell_type": "code",
   "execution_count": 29,
   "metadata": {},
   "outputs": [
    {
     "data": {
      "text/html": [
       "<div>\n",
       "<style scoped>\n",
       "    .dataframe tbody tr th:only-of-type {\n",
       "        vertical-align: middle;\n",
       "    }\n",
       "\n",
       "    .dataframe tbody tr th {\n",
       "        vertical-align: top;\n",
       "    }\n",
       "\n",
       "    .dataframe thead th {\n",
       "        text-align: right;\n",
       "    }\n",
       "</style>\n",
       "<table border=\"1\" class=\"dataframe\">\n",
       "  <thead>\n",
       "    <tr style=\"text-align: right;\">\n",
       "      <th></th>\n",
       "      <th>name</th>\n",
       "      <th>temperature</th>\n",
       "      <th>symbol</th>\n",
       "      <th>weatherDescription</th>\n",
       "      <th>text</th>\n",
       "      <th>windSpeed</th>\n",
       "      <th>windGust</th>\n",
       "      <th>cardinalWindDirection</th>\n",
       "      <th>windDirection</th>\n",
       "      <th>humidity</th>\n",
       "      <th>rainfall</th>\n",
       "      <th>pressure</th>\n",
       "      <th>dayName</th>\n",
       "      <th>date</th>\n",
       "      <th>reportTime</th>\n",
       "      <th>dateTime</th>\n",
       "    </tr>\n",
       "  </thead>\n",
       "  <tbody>\n",
       "    <tr>\n",
       "      <th>0</th>\n",
       "      <td>Athenry</td>\n",
       "      <td>1</td>\n",
       "      <td>02n</td>\n",
       "      <td>Fair</td>\n",
       "      <td>\"Fair\"</td>\n",
       "      <td>7</td>\n",
       "      <td>-</td>\n",
       "      <td>W</td>\n",
       "      <td>270</td>\n",
       "      <td>89</td>\n",
       "      <td>0.0</td>\n",
       "      <td>1008</td>\n",
       "      <td>Friday</td>\n",
       "      <td>2024-11-22</td>\n",
       "      <td>00:00</td>\n",
       "      <td>2024-11-22 00:00:00</td>\n",
       "    </tr>\n",
       "    <tr>\n",
       "      <th>1</th>\n",
       "      <td>Athenry</td>\n",
       "      <td>1</td>\n",
       "      <td>02n</td>\n",
       "      <td>Fair</td>\n",
       "      <td>\"Fair\"</td>\n",
       "      <td>15</td>\n",
       "      <td>-</td>\n",
       "      <td>W</td>\n",
       "      <td>270</td>\n",
       "      <td>85</td>\n",
       "      <td>0.0</td>\n",
       "      <td>1008</td>\n",
       "      <td>Friday</td>\n",
       "      <td>2024-11-22</td>\n",
       "      <td>01:00</td>\n",
       "      <td>2024-11-22 01:00:00</td>\n",
       "    </tr>\n",
       "    <tr>\n",
       "      <th>2</th>\n",
       "      <td>Athenry</td>\n",
       "      <td>2</td>\n",
       "      <td>05n</td>\n",
       "      <td>Rain showers</td>\n",
       "      <td>\"Moderate Rain shower\"</td>\n",
       "      <td>15</td>\n",
       "      <td>-</td>\n",
       "      <td>W</td>\n",
       "      <td>270</td>\n",
       "      <td>92</td>\n",
       "      <td>0.3</td>\n",
       "      <td>1008</td>\n",
       "      <td>Friday</td>\n",
       "      <td>2024-11-22</td>\n",
       "      <td>02:00</td>\n",
       "      <td>2024-11-22 02:00:00</td>\n",
       "    </tr>\n",
       "    <tr>\n",
       "      <th>3</th>\n",
       "      <td>Athenry</td>\n",
       "      <td>1</td>\n",
       "      <td>02n</td>\n",
       "      <td>Fair</td>\n",
       "      <td>\"Fair\"</td>\n",
       "      <td>9</td>\n",
       "      <td>-</td>\n",
       "      <td>W</td>\n",
       "      <td>270</td>\n",
       "      <td>91</td>\n",
       "      <td>0.0</td>\n",
       "      <td>1008</td>\n",
       "      <td>Friday</td>\n",
       "      <td>2024-11-22</td>\n",
       "      <td>03:00</td>\n",
       "      <td>2024-11-22 03:00:00</td>\n",
       "    </tr>\n",
       "    <tr>\n",
       "      <th>4</th>\n",
       "      <td>Athenry</td>\n",
       "      <td>1</td>\n",
       "      <td>02n</td>\n",
       "      <td>Fair</td>\n",
       "      <td>\"Fair\"</td>\n",
       "      <td>9</td>\n",
       "      <td>-</td>\n",
       "      <td>W</td>\n",
       "      <td>270</td>\n",
       "      <td>91</td>\n",
       "      <td>0.0</td>\n",
       "      <td>1008</td>\n",
       "      <td>Friday</td>\n",
       "      <td>2024-11-22</td>\n",
       "      <td>04:00</td>\n",
       "      <td>2024-11-22 04:00:00</td>\n",
       "    </tr>\n",
       "  </tbody>\n",
       "</table>\n",
       "</div>"
      ],
      "text/plain": [
       "      name  temperature symbol weatherDescription                    text  \\\n",
       "0  Athenry            1    02n               Fair                  \"Fair\"   \n",
       "1  Athenry            1    02n               Fair                  \"Fair\"   \n",
       "2  Athenry            2    05n       Rain showers  \"Moderate Rain shower\"   \n",
       "3  Athenry            1    02n               Fair                  \"Fair\"   \n",
       "4  Athenry            1    02n               Fair                  \"Fair\"   \n",
       "\n",
       "   windSpeed windGust cardinalWindDirection  windDirection  humidity  \\\n",
       "0          7        -                     W            270        89   \n",
       "1         15        -                     W            270        85   \n",
       "2         15        -                     W            270        92   \n",
       "3          9        -                     W            270        91   \n",
       "4          9        -                     W            270        91   \n",
       "\n",
       "   rainfall  pressure dayName       date reportTime            dateTime  \n",
       "0       0.0      1008  Friday 2024-11-22      00:00 2024-11-22 00:00:00  \n",
       "1       0.0      1008  Friday 2024-11-22      01:00 2024-11-22 01:00:00  \n",
       "2       0.3      1008  Friday 2024-11-22      02:00 2024-11-22 02:00:00  \n",
       "3       0.0      1008  Friday 2024-11-22      03:00 2024-11-22 03:00:00  \n",
       "4       0.0      1008  Friday 2024-11-22      04:00 2024-11-22 04:00:00  "
      ]
     },
     "execution_count": 29,
     "metadata": {},
     "output_type": "execute_result"
    }
   ],
   "source": [
    "# Creating a new column with the date and time\n",
    "df['dateTime'] = df['date'] + pd.to_timedelta(df['reportTime'] + ':00')\n",
    "df.head()"
   ]
  },
  {
   "cell_type": "code",
   "execution_count": 30,
   "metadata": {},
   "outputs": [
    {
     "data": {
      "text/html": [
       "<div>\n",
       "<style scoped>\n",
       "    .dataframe tbody tr th:only-of-type {\n",
       "        vertical-align: middle;\n",
       "    }\n",
       "\n",
       "    .dataframe tbody tr th {\n",
       "        vertical-align: top;\n",
       "    }\n",
       "\n",
       "    .dataframe thead th {\n",
       "        text-align: right;\n",
       "    }\n",
       "</style>\n",
       "<table border=\"1\" class=\"dataframe\">\n",
       "  <thead>\n",
       "    <tr style=\"text-align: right;\">\n",
       "      <th></th>\n",
       "      <th>name</th>\n",
       "      <th>temperature</th>\n",
       "      <th>symbol</th>\n",
       "      <th>weatherDescription</th>\n",
       "      <th>text</th>\n",
       "      <th>windSpeed</th>\n",
       "      <th>windGust</th>\n",
       "      <th>cardinalWindDirection</th>\n",
       "      <th>windDirection</th>\n",
       "      <th>humidity</th>\n",
       "      <th>rainfall</th>\n",
       "      <th>pressure</th>\n",
       "      <th>dayName</th>\n",
       "      <th>date</th>\n",
       "      <th>reportTime</th>\n",
       "    </tr>\n",
       "    <tr>\n",
       "      <th>dateTime</th>\n",
       "      <th></th>\n",
       "      <th></th>\n",
       "      <th></th>\n",
       "      <th></th>\n",
       "      <th></th>\n",
       "      <th></th>\n",
       "      <th></th>\n",
       "      <th></th>\n",
       "      <th></th>\n",
       "      <th></th>\n",
       "      <th></th>\n",
       "      <th></th>\n",
       "      <th></th>\n",
       "      <th></th>\n",
       "      <th></th>\n",
       "    </tr>\n",
       "  </thead>\n",
       "  <tbody>\n",
       "    <tr>\n",
       "      <th>2024-11-20 00:00:00</th>\n",
       "      <td>Athenry</td>\n",
       "      <td>-2</td>\n",
       "      <td>04n</td>\n",
       "      <td>Cloudy</td>\n",
       "      <td>\"Cloudy\"</td>\n",
       "      <td>2</td>\n",
       "      <td>-</td>\n",
       "      <td>NE</td>\n",
       "      <td>45</td>\n",
       "      <td>97</td>\n",
       "      <td>0.0</td>\n",
       "      <td>1014</td>\n",
       "      <td>Wednesday</td>\n",
       "      <td>2024-11-20</td>\n",
       "      <td>00:00</td>\n",
       "    </tr>\n",
       "    <tr>\n",
       "      <th>2024-11-20 01:00:00</th>\n",
       "      <td>Athenry</td>\n",
       "      <td>-2</td>\n",
       "      <td>15n</td>\n",
       "      <td>Fog / Mist</td>\n",
       "      <td>\"Mist\"</td>\n",
       "      <td>2</td>\n",
       "      <td>-</td>\n",
       "      <td>W</td>\n",
       "      <td>270</td>\n",
       "      <td>96</td>\n",
       "      <td>0.0</td>\n",
       "      <td>1014</td>\n",
       "      <td>Wednesday</td>\n",
       "      <td>2024-11-20</td>\n",
       "      <td>01:00</td>\n",
       "    </tr>\n",
       "    <tr>\n",
       "      <th>2024-11-20 02:00:00</th>\n",
       "      <td>Athenry</td>\n",
       "      <td>-3</td>\n",
       "      <td>15n</td>\n",
       "      <td>Fog / Mist</td>\n",
       "      <td>\"Mist\"</td>\n",
       "      <td>2</td>\n",
       "      <td>-</td>\n",
       "      <td>SW</td>\n",
       "      <td>225</td>\n",
       "      <td>96</td>\n",
       "      <td>0.0</td>\n",
       "      <td>1014</td>\n",
       "      <td>Wednesday</td>\n",
       "      <td>2024-11-20</td>\n",
       "      <td>02:00</td>\n",
       "    </tr>\n",
       "    <tr>\n",
       "      <th>2024-11-20 03:00:00</th>\n",
       "      <td>Athenry</td>\n",
       "      <td>-3</td>\n",
       "      <td>02n</td>\n",
       "      <td>Fair</td>\n",
       "      <td>\"Fair\"</td>\n",
       "      <td>6</td>\n",
       "      <td>-</td>\n",
       "      <td>W</td>\n",
       "      <td>270</td>\n",
       "      <td>97</td>\n",
       "      <td>0.0</td>\n",
       "      <td>1014</td>\n",
       "      <td>Wednesday</td>\n",
       "      <td>2024-11-20</td>\n",
       "      <td>03:00</td>\n",
       "    </tr>\n",
       "    <tr>\n",
       "      <th>2024-11-20 04:00:00</th>\n",
       "      <td>Athenry</td>\n",
       "      <td>-2</td>\n",
       "      <td>02n</td>\n",
       "      <td>Fair</td>\n",
       "      <td>\"Fair\"</td>\n",
       "      <td>7</td>\n",
       "      <td>-</td>\n",
       "      <td>NW</td>\n",
       "      <td>315</td>\n",
       "      <td>94</td>\n",
       "      <td>0.0</td>\n",
       "      <td>1015</td>\n",
       "      <td>Wednesday</td>\n",
       "      <td>2024-11-20</td>\n",
       "      <td>04:00</td>\n",
       "    </tr>\n",
       "  </tbody>\n",
       "</table>\n",
       "</div>"
      ],
      "text/plain": [
       "                        name  temperature symbol weatherDescription      text  \\\n",
       "dateTime                                                                        \n",
       "2024-11-20 00:00:00  Athenry           -2    04n             Cloudy  \"Cloudy\"   \n",
       "2024-11-20 01:00:00  Athenry           -2    15n         Fog / Mist    \"Mist\"   \n",
       "2024-11-20 02:00:00  Athenry           -3    15n         Fog / Mist    \"Mist\"   \n",
       "2024-11-20 03:00:00  Athenry           -3    02n               Fair    \"Fair\"   \n",
       "2024-11-20 04:00:00  Athenry           -2    02n               Fair    \"Fair\"   \n",
       "\n",
       "                     windSpeed windGust cardinalWindDirection  windDirection  \\\n",
       "dateTime                                                                       \n",
       "2024-11-20 00:00:00          2        -                    NE             45   \n",
       "2024-11-20 01:00:00          2        -                     W            270   \n",
       "2024-11-20 02:00:00          2        -                    SW            225   \n",
       "2024-11-20 03:00:00          6        -                     W            270   \n",
       "2024-11-20 04:00:00          7        -                    NW            315   \n",
       "\n",
       "                     humidity  rainfall  pressure    dayName       date  \\\n",
       "dateTime                                                                  \n",
       "2024-11-20 00:00:00        97       0.0      1014  Wednesday 2024-11-20   \n",
       "2024-11-20 01:00:00        96       0.0      1014  Wednesday 2024-11-20   \n",
       "2024-11-20 02:00:00        96       0.0      1014  Wednesday 2024-11-20   \n",
       "2024-11-20 03:00:00        97       0.0      1014  Wednesday 2024-11-20   \n",
       "2024-11-20 04:00:00        94       0.0      1015  Wednesday 2024-11-20   \n",
       "\n",
       "                    reportTime  \n",
       "dateTime                        \n",
       "2024-11-20 00:00:00      00:00  \n",
       "2024-11-20 01:00:00      01:00  \n",
       "2024-11-20 02:00:00      02:00  \n",
       "2024-11-20 03:00:00      03:00  \n",
       "2024-11-20 04:00:00      04:00  "
      ]
     },
     "execution_count": 30,
     "metadata": {},
     "output_type": "execute_result"
    }
   ],
   "source": [
    "# Set the datetime column as the index and sort it. \n",
    "df =  df.set_index('dateTime').sort_index()\n",
    "df.head()"
   ]
  },
  {
   "cell_type": "code",
   "execution_count": 31,
   "metadata": {},
   "outputs": [
    {
     "name": "stdout",
     "output_type": "stream",
     "text": [
      "The data set has 75 rows and 15 columns.\n"
     ]
    }
   ],
   "source": [
    "# Shape of the data set.\n",
    "print(f'The data set has {df.shape[0]} rows and {df.shape[1]} columns.')"
   ]
  },
  {
   "cell_type": "code",
   "execution_count": 32,
   "metadata": {},
   "outputs": [],
   "source": [
    "# Set columns to the correct data type\n",
    "df[['name', 'symbol', 'weatherDescription', 'text', 'cardinalWindDirection', 'dayName']] = df[['name', 'symbol', 'weatherDescription', 'text', 'cardinalWindDirection', 'dayName']].astype('category')"
   ]
  },
  {
   "cell_type": "code",
   "execution_count": 33,
   "metadata": {},
   "outputs": [
    {
     "name": "stdout",
     "output_type": "stream",
     "text": [
      "<class 'pandas.core.frame.DataFrame'>\n",
      "DatetimeIndex: 75 entries, 2024-11-20 00:00:00 to 2024-11-26 10:00:00\n",
      "Data columns (total 15 columns):\n",
      " #   Column                 Non-Null Count  Dtype         \n",
      "---  ------                 --------------  -----         \n",
      " 0   name                   75 non-null     category      \n",
      " 1   temperature            75 non-null     int64         \n",
      " 2   symbol                 75 non-null     category      \n",
      " 3   weatherDescription     75 non-null     category      \n",
      " 4   text                   75 non-null     category      \n",
      " 5   windSpeed              75 non-null     int64         \n",
      " 6   windGust               75 non-null     object        \n",
      " 7   cardinalWindDirection  75 non-null     category      \n",
      " 8   windDirection          75 non-null     int64         \n",
      " 9   humidity               75 non-null     int64         \n",
      " 10  rainfall               75 non-null     float64       \n",
      " 11  pressure               75 non-null     int64         \n",
      " 12  dayName                75 non-null     category      \n",
      " 13  date                   75 non-null     datetime64[ns]\n",
      " 14  reportTime             75 non-null     object        \n",
      "dtypes: category(6), datetime64[ns](1), float64(1), int64(5), object(2)\n",
      "memory usage: 8.8+ KB\n"
     ]
    }
   ],
   "source": [
    "df.info()"
   ]
  },
  {
   "cell_type": "code",
   "execution_count": 34,
   "metadata": {},
   "outputs": [
    {
     "name": "stdout",
     "output_type": "stream",
     "text": [
      "There are 0 duplicates in the dataset.\n"
     ]
    }
   ],
   "source": [
    "# Check for duplicate rows\n",
    "print(f'There are {df.duplicated().sum()} duplicates in the dataset.')"
   ]
  },
  {
   "cell_type": "code",
   "execution_count": 35,
   "metadata": {},
   "outputs": [
    {
     "data": {
      "text/plain": [
       "name                     0\n",
       "temperature              0\n",
       "symbol                   0\n",
       "weatherDescription       0\n",
       "text                     0\n",
       "windSpeed                0\n",
       "windGust                 0\n",
       "cardinalWindDirection    0\n",
       "windDirection            0\n",
       "humidity                 0\n",
       "rainfall                 0\n",
       "pressure                 0\n",
       "dayName                  0\n",
       "date                     0\n",
       "reportTime               0\n",
       "dtype: int64"
      ]
     },
     "execution_count": 35,
     "metadata": {},
     "output_type": "execute_result"
    }
   ],
   "source": [
    "# Check for NaN\n",
    "df.isna().sum()"
   ]
  },
  {
   "cell_type": "code",
   "execution_count": 36,
   "metadata": {},
   "outputs": [
    {
     "name": "stdout",
     "output_type": "stream",
     "text": [
      "The range in the reportTime column is 00:00 - 10:00\n"
     ]
    }
   ],
   "source": [
    "# Get the min and max values in the reportTime column.\n",
    "print(\"The range in the reportTime column is\", df['reportTime'].min(), \"-\", df['reportTime'].max())"
   ]
  },
  {
   "cell_type": "code",
   "execution_count": 37,
   "metadata": {},
   "outputs": [
    {
     "name": "stdout",
     "output_type": "stream",
     "text": [
      "The range in the date column is 2024-11-20 00:00:00 - 2024-11-26 00:00:00\n"
     ]
    }
   ],
   "source": [
    "# Get the min and max values in the reportTime column.\n",
    "print(\"The range in the date column is\", df['date'].min(), \"-\", df['date'].max())"
   ]
  },
  {
   "cell_type": "code",
   "execution_count": 38,
   "metadata": {},
   "outputs": [
    {
     "data": {
      "text/plain": [
       "['Athenry']\n",
       "Categories (1, object): ['Athenry']"
      ]
     },
     "execution_count": 38,
     "metadata": {},
     "output_type": "execute_result"
    }
   ],
   "source": [
    "# Unique names in the name column\n",
    "df['name'].unique()"
   ]
  },
  {
   "cell_type": "code",
   "execution_count": 39,
   "metadata": {},
   "outputs": [
    {
     "data": {
      "text/html": [
       "<div>\n",
       "<style scoped>\n",
       "    .dataframe tbody tr th:only-of-type {\n",
       "        vertical-align: middle;\n",
       "    }\n",
       "\n",
       "    .dataframe tbody tr th {\n",
       "        vertical-align: top;\n",
       "    }\n",
       "\n",
       "    .dataframe thead th {\n",
       "        text-align: right;\n",
       "    }\n",
       "</style>\n",
       "<table border=\"1\" class=\"dataframe\">\n",
       "  <thead>\n",
       "    <tr style=\"text-align: right;\">\n",
       "      <th></th>\n",
       "      <th>name</th>\n",
       "      <th>temperature</th>\n",
       "      <th>symbol</th>\n",
       "      <th>weatherDescription</th>\n",
       "      <th>text</th>\n",
       "      <th>windSpeed</th>\n",
       "      <th>windGust</th>\n",
       "      <th>cardinalWindDirection</th>\n",
       "      <th>windDirection</th>\n",
       "      <th>humidity</th>\n",
       "      <th>rainfall</th>\n",
       "      <th>pressure</th>\n",
       "      <th>dayName</th>\n",
       "      <th>date</th>\n",
       "      <th>reportTime</th>\n",
       "    </tr>\n",
       "  </thead>\n",
       "  <tbody>\n",
       "    <tr>\n",
       "      <th>0</th>\n",
       "      <td>Athenry</td>\n",
       "      <td>7</td>\n",
       "      <td></td>\n",
       "      <td>N/A</td>\n",
       "      <td></td>\n",
       "      <td>57</td>\n",
       "      <td>93</td>\n",
       "      <td>NW</td>\n",
       "      <td>315</td>\n",
       "      <td>-99</td>\n",
       "      <td>1.3</td>\n",
       "      <td>993</td>\n",
       "      <td>Saturday</td>\n",
       "      <td>2024-07-12</td>\n",
       "      <td>00:00</td>\n",
       "    </tr>\n",
       "    <tr>\n",
       "      <th>1</th>\n",
       "      <td>Athenry</td>\n",
       "      <td>6</td>\n",
       "      <td></td>\n",
       "      <td>N/A</td>\n",
       "      <td></td>\n",
       "      <td>46</td>\n",
       "      <td>102</td>\n",
       "      <td>NW</td>\n",
       "      <td>315</td>\n",
       "      <td>-99</td>\n",
       "      <td>1.7</td>\n",
       "      <td>997</td>\n",
       "      <td>Saturday</td>\n",
       "      <td>2024-07-12</td>\n",
       "      <td>01:00</td>\n",
       "    </tr>\n",
       "    <tr>\n",
       "      <th>2</th>\n",
       "      <td>Athenry</td>\n",
       "      <td>6</td>\n",
       "      <td></td>\n",
       "      <td>N/A</td>\n",
       "      <td></td>\n",
       "      <td>54</td>\n",
       "      <td>85</td>\n",
       "      <td>NW</td>\n",
       "      <td>315</td>\n",
       "      <td>-99</td>\n",
       "      <td>0.8</td>\n",
       "      <td>999</td>\n",
       "      <td>Saturday</td>\n",
       "      <td>2024-07-12</td>\n",
       "      <td>02:00</td>\n",
       "    </tr>\n",
       "    <tr>\n",
       "      <th>3</th>\n",
       "      <td>Athenry</td>\n",
       "      <td>7</td>\n",
       "      <td></td>\n",
       "      <td>N/A</td>\n",
       "      <td></td>\n",
       "      <td>52</td>\n",
       "      <td>96</td>\n",
       "      <td>NW</td>\n",
       "      <td>315</td>\n",
       "      <td>-99</td>\n",
       "      <td>0.1</td>\n",
       "      <td>1002</td>\n",
       "      <td>Saturday</td>\n",
       "      <td>2024-07-12</td>\n",
       "      <td>03:00</td>\n",
       "    </tr>\n",
       "    <tr>\n",
       "      <th>4</th>\n",
       "      <td>Athenry</td>\n",
       "      <td>7</td>\n",
       "      <td></td>\n",
       "      <td>N/A</td>\n",
       "      <td></td>\n",
       "      <td>52</td>\n",
       "      <td>89</td>\n",
       "      <td>NW</td>\n",
       "      <td>315</td>\n",
       "      <td>-99</td>\n",
       "      <td>0.0</td>\n",
       "      <td>1003</td>\n",
       "      <td>Saturday</td>\n",
       "      <td>2024-07-12</td>\n",
       "      <td>04:00</td>\n",
       "    </tr>\n",
       "  </tbody>\n",
       "</table>\n",
       "</div>"
      ],
      "text/plain": [
       "      name  temperature symbol weatherDescription text  windSpeed  windGust  \\\n",
       "0  Athenry            7                       N/A              57        93   \n",
       "1  Athenry            6                       N/A              46       102   \n",
       "2  Athenry            6                       N/A              54        85   \n",
       "3  Athenry            7                       N/A              52        96   \n",
       "4  Athenry            7                       N/A              52        89   \n",
       "\n",
       "  cardinalWindDirection  windDirection  humidity  rainfall  pressure  \\\n",
       "0                    NW            315       -99       1.3       993   \n",
       "1                    NW            315       -99       1.7       997   \n",
       "2                    NW            315       -99       0.8       999   \n",
       "3                    NW            315       -99       0.1      1002   \n",
       "4                    NW            315       -99       0.0      1003   \n",
       "\n",
       "    dayName       date reportTime  \n",
       "0  Saturday 2024-07-12      00:00  \n",
       "1  Saturday 2024-07-12      01:00  \n",
       "2  Saturday 2024-07-12      02:00  \n",
       "3  Saturday 2024-07-12      03:00  \n",
       "4  Saturday 2024-07-12      04:00  "
      ]
     },
     "execution_count": 39,
     "metadata": {},
     "output_type": "execute_result"
    }
   ],
   "source": [
    "storm_darragh_df = pd.read_json('data/weather/20241207_101406.json')\n",
    "storm_darragh_df.head()"
   ]
  },
  {
   "cell_type": "markdown",
   "metadata": {},
   "source": [
    "### Description of the Data Set\n",
    "\n",
    "As each json file was downloaded at 10 am the data set contains weather information for the Athenry weather station from midnight to 10:00 am from the 20th November to the 26th November 2024, inclusive. Met Éireann issued a red weather warning from Saturday 23rd to Sunday 24th November for Storm Bert. Separately the json file, 20241207_101406.json which contains the weather information for Saturday, 7th December 2024 (Storm Darragh) was loaded into pandas for a very brief comparison between Storm Bert and Storm Darragh. \n",
    "\n",
    "The json files for the period of interest were merged to create one data set, which was written to a csv file. This csv file, athenry_weather.csv was loaded into pandas. The data set has 75 rows and 15 columns. The reportTime and date columns were merged to create a new column, dateTime which was set as the index. There is no missing data and no duplicates. \n",
    "\n",
    "The columns contain weather measurements such as wind speed (knots), cardinal wind direction and wind gusts (knots), rainfall (mm), air pressure (hPa) and a weather description. The data is recorded every hour and each row contains the data for a different time and date.  "
   ]
  },
  {
   "cell_type": "markdown",
   "metadata": {},
   "source": [
    "### Exploratory Data Analysis"
   ]
  },
  {
   "cell_type": "code",
   "execution_count": 40,
   "metadata": {},
   "outputs": [
    {
     "data": {
      "text/html": [
       "<div>\n",
       "<style scoped>\n",
       "    .dataframe tbody tr th:only-of-type {\n",
       "        vertical-align: middle;\n",
       "    }\n",
       "\n",
       "    .dataframe tbody tr th {\n",
       "        vertical-align: top;\n",
       "    }\n",
       "\n",
       "    .dataframe thead th {\n",
       "        text-align: right;\n",
       "    }\n",
       "</style>\n",
       "<table border=\"1\" class=\"dataframe\">\n",
       "  <thead>\n",
       "    <tr style=\"text-align: right;\">\n",
       "      <th></th>\n",
       "      <th>temperature</th>\n",
       "      <th>windSpeed</th>\n",
       "      <th>windDirection</th>\n",
       "      <th>humidity</th>\n",
       "      <th>rainfall</th>\n",
       "      <th>pressure</th>\n",
       "      <th>date</th>\n",
       "    </tr>\n",
       "  </thead>\n",
       "  <tbody>\n",
       "    <tr>\n",
       "      <th>count</th>\n",
       "      <td>75.00</td>\n",
       "      <td>75.00</td>\n",
       "      <td>75.00</td>\n",
       "      <td>75.00</td>\n",
       "      <td>75.00</td>\n",
       "      <td>75.00</td>\n",
       "      <td>75</td>\n",
       "    </tr>\n",
       "    <tr>\n",
       "      <th>mean</th>\n",
       "      <td>3.25</td>\n",
       "      <td>13.28</td>\n",
       "      <td>195.00</td>\n",
       "      <td>90.04</td>\n",
       "      <td>0.49</td>\n",
       "      <td>999.43</td>\n",
       "      <td>2024-11-22 23:40:48</td>\n",
       "    </tr>\n",
       "    <tr>\n",
       "      <th>min</th>\n",
       "      <td>-3.00</td>\n",
       "      <td>2.00</td>\n",
       "      <td>0.00</td>\n",
       "      <td>69.00</td>\n",
       "      <td>0.00</td>\n",
       "      <td>976.00</td>\n",
       "      <td>2024-11-20 00:00:00</td>\n",
       "    </tr>\n",
       "    <tr>\n",
       "      <th>25%</th>\n",
       "      <td>0.00</td>\n",
       "      <td>6.50</td>\n",
       "      <td>180.00</td>\n",
       "      <td>85.00</td>\n",
       "      <td>0.00</td>\n",
       "      <td>988.00</td>\n",
       "      <td>2024-11-21 00:00:00</td>\n",
       "    </tr>\n",
       "    <tr>\n",
       "      <th>50%</th>\n",
       "      <td>1.00</td>\n",
       "      <td>9.00</td>\n",
       "      <td>225.00</td>\n",
       "      <td>92.00</td>\n",
       "      <td>0.00</td>\n",
       "      <td>1004.00</td>\n",
       "      <td>2024-11-23 00:00:00</td>\n",
       "    </tr>\n",
       "    <tr>\n",
       "      <th>75%</th>\n",
       "      <td>7.00</td>\n",
       "      <td>20.00</td>\n",
       "      <td>270.00</td>\n",
       "      <td>96.00</td>\n",
       "      <td>0.20</td>\n",
       "      <td>1010.00</td>\n",
       "      <td>2024-11-25 00:00:00</td>\n",
       "    </tr>\n",
       "    <tr>\n",
       "      <th>max</th>\n",
       "      <td>13.00</td>\n",
       "      <td>35.00</td>\n",
       "      <td>315.00</td>\n",
       "      <td>99.00</td>\n",
       "      <td>4.90</td>\n",
       "      <td>1016.00</td>\n",
       "      <td>2024-11-26 00:00:00</td>\n",
       "    </tr>\n",
       "    <tr>\n",
       "      <th>std</th>\n",
       "      <td>4.56</td>\n",
       "      <td>8.93</td>\n",
       "      <td>88.57</td>\n",
       "      <td>7.58</td>\n",
       "      <td>1.14</td>\n",
       "      <td>13.61</td>\n",
       "      <td>NaN</td>\n",
       "    </tr>\n",
       "  </tbody>\n",
       "</table>\n",
       "</div>"
      ],
      "text/plain": [
       "       temperature  windSpeed  windDirection  humidity  rainfall  pressure  \\\n",
       "count        75.00      75.00          75.00     75.00     75.00     75.00   \n",
       "mean          3.25      13.28         195.00     90.04      0.49    999.43   \n",
       "min          -3.00       2.00           0.00     69.00      0.00    976.00   \n",
       "25%           0.00       6.50         180.00     85.00      0.00    988.00   \n",
       "50%           1.00       9.00         225.00     92.00      0.00   1004.00   \n",
       "75%           7.00      20.00         270.00     96.00      0.20   1010.00   \n",
       "max          13.00      35.00         315.00     99.00      4.90   1016.00   \n",
       "std           4.56       8.93          88.57      7.58      1.14     13.61   \n",
       "\n",
       "                      date  \n",
       "count                   75  \n",
       "mean   2024-11-22 23:40:48  \n",
       "min    2024-11-20 00:00:00  \n",
       "25%    2024-11-21 00:00:00  \n",
       "50%    2024-11-23 00:00:00  \n",
       "75%    2024-11-25 00:00:00  \n",
       "max    2024-11-26 00:00:00  \n",
       "std                    NaN  "
      ]
     },
     "execution_count": 40,
     "metadata": {},
     "output_type": "execute_result"
    }
   ],
   "source": [
    "# Summary of the numeric data.\n",
    "df.describe().round(2)"
   ]
  },
  {
   "cell_type": "code",
   "execution_count": 41,
   "metadata": {},
   "outputs": [
    {
     "data": {
      "image/png": "[encoded data removed]",
      "text/plain": [
       "<Figure size 800x550 with 1 Axes>"
      ]
     },
     "metadata": {},
     "output_type": "display_data"
    }
   ],
   "source": [
    "# Countplot of the weather descriptions.\n",
    "\n",
    "sns.countplot(data=df, x ='weatherDescription')\n",
    "\n",
    "# Set the title and axis labels\n",
    "plt.title('Weather Description')\n",
    "plt.xlabel('Weather Description')\n",
    "plt.xticks(rotation = 60)\n",
    "plt.ylabel('Count')\n",
    "\n",
    "# Display the plot\n",
    "plt.show()"
   ]
  },
  {
   "cell_type": "markdown",
   "metadata": {},
   "source": [
    "### Plot the Numeric Variables."
   ]
  },
  {
   "cell_type": "code",
   "execution_count": 42,
   "metadata": {},
   "outputs": [],
   "source": [
    "def plot_line(df, hue = None):\n",
    "    '''Seaborn line plots of the numeric variables in a data set.\n",
    "    \n",
    "    Parameters:\n",
    "        df: a dataframe\n",
    "        hue: select a column for the data frame to colour the data by.\n",
    "    \n",
    "    Returns:\n",
    "        Line plot of the numeric variables.\n",
    "        '''\n",
    "    \n",
    "    # Create a dictionary of the units of the y-axis labels.\n",
    "    weather_units = {\n",
    "                    'temperature': '°C',\n",
    "                    'windSpeed': 'knots',\n",
    "                    'windDirection': 'deg',\n",
    "                    'humidity': '%',\n",
    "                    'rainfall': 'mm', \n",
    "                    'pressure': 'hPa' \n",
    "                    }\n",
    "\n",
    "    for col in df:\n",
    "        if df[col].dtype in ['int', 'float']:\n",
    "\n",
    "            fig, ax = plt.subplots(figsize = (6,4))\n",
    "\n",
    "            # Configure date formatting for the x-axis\n",
    "            locator = mdates.AutoDateLocator()\n",
    "            formatter = mdates.ConciseDateFormatter(locator)\n",
    "            ax.xaxis.set_major_locator(locator)\n",
    "            ax.xaxis.set_major_formatter(formatter)\n",
    "\n",
    "            # Plot the line \n",
    "            sns.lineplot(x = df.index, y = col, data=df, hue= hue, palette= 'viridis')\n",
    "\n",
    "            # Get the unit from the dictionary\n",
    "            unit = weather_units.get(col, '')\n",
    "\n",
    "            # Set title and axis labels\n",
    "            plt.title(f'{col.capitalize()} in Athenry')\n",
    "            plt.ylabel(f'{col.capitalize()} ({unit})')\n",
    "            plt.xlabel('Date')\n",
    "\n",
    "            # Display the plot\n",
    "            plt.show()"
   ]
  },
  {
   "cell_type": "code",
   "execution_count": 43,
   "metadata": {},
   "outputs": [
    {
     "data": {
      "image/png": "[encoded data removed]",
      "text/plain": [
       "<Figure size 600x400 with 1 Axes>"
      ]
     },
     "metadata": {},
     "output_type": "display_data"
    }
   ],
   "source": [
    "plot_line(df, df.index.day)"
   ]
  },
  {
   "cell_type": "markdown",
   "metadata": {},
   "source": [
    "The plots look unusual as the data set only has data from midnight to 10 am and not 24 hours, but the trend for most of the variables is obvious."
   ]
  },
  {
   "cell_type": "markdown",
   "metadata": {},
   "source": [
    "### Summary of the temperature measurements"
   ]
  },
  {
   "cell_type": "code",
   "execution_count": 44,
   "metadata": {},
   "outputs": [
    {
     "ename": "SyntaxError",
     "evalue": "f-string: unmatched '[' (587118059.py, line 1)",
     "output_type": "error",
     "traceback": [
      "\u001b[1;36m  Cell \u001b[1;32mIn[44], line 1\u001b[1;36m\u001b[0m\n\u001b[1;33m    f'The maximum temperature for the time period was {df['temperature'].max()}°C and occurred on the {df['temperature'].idxmax()}.'\u001b[0m\n\u001b[1;37m                                                           ^\u001b[0m\n\u001b[1;31mSyntaxError\u001b[0m\u001b[1;31m:\u001b[0m f-string: unmatched '['\n"
     ]
    }
   ],
   "source": [
    "f'The maximum temperature for the time period was {df['temperature'].max()}°C and occurred on the {df['temperature'].idxmax()}.'"
   ]
  },
  {
   "cell_type": "code",
   "execution_count": 218,
   "metadata": {},
   "outputs": [
    {
     "data": {
      "text/plain": [
       "'The minimum temperature for the time period was -3°C and occurred on the 2024-11-20 02:00:00.'"
      ]
     },
     "execution_count": 218,
     "metadata": {},
     "output_type": "execute_result"
    }
   ],
   "source": [
    "f'The minimum temperature for the time period was {df['temperature'].min()}°C and occurred on the {df['temperature'].idxmin()}.'"
   ]
  },
  {
   "cell_type": "code",
   "execution_count": 219,
   "metadata": {},
   "outputs": [
    {
     "data": {
      "text/plain": [
       "'The mean temperature was 3.25°C.'"
      ]
     },
     "execution_count": 219,
     "metadata": {},
     "output_type": "execute_result"
    }
   ],
   "source": [
    "f'The mean temperature was {df['temperature'].mean().round(2)}°C.'"
   ]
  },
  {
   "cell_type": "markdown",
   "metadata": {},
   "source": [
    "### Summary of Wind Measurements"
   ]
  },
  {
   "cell_type": "code",
   "execution_count": 220,
   "metadata": {},
   "outputs": [
    {
     "name": "stdout",
     "output_type": "stream",
     "text": [
      "The wind direction was mostly from the W.\n"
     ]
    }
   ],
   "source": [
    "# https://www.tutorialspoint.com/how-to-display-most-frequent-value-in-a-pandas-series\n",
    "\n",
    "wind_median = df['cardinalWindDirection'].mode()[0]\n",
    "print(f'The wind direction was mostly from the {wind_median}.')"
   ]
  },
  {
   "cell_type": "code",
   "execution_count": 221,
   "metadata": {},
   "outputs": [
    {
     "data": {
      "text/plain": [
       "'The mean wind speeds for the week was 13.0 knots.'"
      ]
     },
     "execution_count": 221,
     "metadata": {},
     "output_type": "execute_result"
    }
   ],
   "source": [
    "f'The mean wind speeds for the week was {df['windSpeed'].mean().round()} knots.'"
   ]
  },
  {
   "cell_type": "markdown",
   "metadata": {},
   "source": [
    "### Summary of Rainfall Measurements."
   ]
  },
  {
   "cell_type": "code",
   "execution_count": 222,
   "metadata": {},
   "outputs": [
    {
     "data": {
      "text/plain": [
       "'The total rainfall for the week was 36.65 mm.'"
      ]
     },
     "execution_count": 222,
     "metadata": {},
     "output_type": "execute_result"
    }
   ],
   "source": [
    "f'The total rainfall for the week was {df['rainfall'].sum()} mm.'"
   ]
  },
  {
   "cell_type": "code",
   "execution_count": 223,
   "metadata": {},
   "outputs": [
    {
     "data": {
      "text/plain": [
       "'The mean rainfall for the week was 0.49 mm.'"
      ]
     },
     "execution_count": 223,
     "metadata": {},
     "output_type": "execute_result"
    }
   ],
   "source": [
    "f'The mean rainfall for the week was {df['rainfall'].mean().round(2)} mm.'"
   ]
  },
  {
   "cell_type": "code",
   "execution_count": 224,
   "metadata": {},
   "outputs": [
    {
     "data": {
      "text/plain": [
       "'The wettest date and time was 2024-11-23 04:00:00 when 4.9 mm of rain fell.'"
      ]
     },
     "execution_count": 224,
     "metadata": {},
     "output_type": "execute_result"
    }
   ],
   "source": [
    "# The wettest time and date\n",
    "max_rainfall_idx = df['rainfall'].idxmax()\n",
    "\n",
    "f'The wettest date and time was {max_rainfall_idx} when {df.loc[max_rainfall_idx, 'rainfall']} mm of rain fell.'"
   ]
  },
  {
   "cell_type": "markdown",
   "metadata": {},
   "source": [
    "### Air Pressure Measurements"
   ]
  },
  {
   "cell_type": "code",
   "execution_count": 225,
   "metadata": {},
   "outputs": [
    {
     "data": {
      "text/plain": [
       "'The maximum air pressure was 1016 hPa.'"
      ]
     },
     "execution_count": 225,
     "metadata": {},
     "output_type": "execute_result"
    }
   ],
   "source": [
    "f'The maximum air pressure was {df['pressure'].max()} hPa.'"
   ]
  },
  {
   "cell_type": "code",
   "execution_count": 226,
   "metadata": {},
   "outputs": [
    {
     "data": {
      "text/plain": [
       "'The minimum air pressure was 976 hPa.'"
      ]
     },
     "execution_count": 226,
     "metadata": {},
     "output_type": "execute_result"
    }
   ],
   "source": [
    "f'The minimum air pressure was {df['pressure'].min()} hPa.'"
   ]
  },
  {
   "cell_type": "markdown",
   "metadata": {},
   "source": [
    "### Storm Bert"
   ]
  },
  {
   "cell_type": "code",
   "execution_count": 46,
   "metadata": {},
   "outputs": [],
   "source": [
    "storm_bert_df = df.loc['2024-11-23': '2024-11-24']"
   ]
  },
  {
   "cell_type": "code",
   "execution_count": 228,
   "metadata": {},
   "outputs": [
    {
     "data": {
      "text/plain": [
       "'The wind direction was mostly from the S.'"
      ]
     },
     "execution_count": 228,
     "metadata": {},
     "output_type": "execute_result"
    }
   ],
   "source": [
    "f'The wind direction was mostly from the {storm_bert_df['cardinalWindDirection'].mode()[0]}.'"
   ]
  },
  {
   "cell_type": "code",
   "execution_count": 229,
   "metadata": {},
   "outputs": [
    {
     "name": "stdout",
     "output_type": "stream",
     "text": [
      "During Storm Bert the mean wind speed was 25.45 knots.\n",
      "During Storm Bert the max wind gusts recorded was 61 knots.\n"
     ]
    }
   ],
   "source": [
    "print(f'During Storm Bert the mean wind speed was {storm_bert_df['windSpeed'].mean()} knots.')\n",
    "print(f'During Storm Bert the max wind gusts recorded was {storm_bert_df['windGust'].max()} knots.')\n"
   ]
  },
  {
   "cell_type": "code",
   "execution_count": 230,
   "metadata": {},
   "outputs": [
    {
     "data": {
      "text/plain": [
       "'During Storm Bert the total rainfall was 30.83 mm.'"
      ]
     },
     "execution_count": 230,
     "metadata": {},
     "output_type": "execute_result"
    }
   ],
   "source": [
    "f'During Storm Bert the total rainfall was {storm_bert_df['rainfall'].sum().round(2)} mm.'"
   ]
  },
  {
   "cell_type": "code",
   "execution_count": 231,
   "metadata": {},
   "outputs": [
    {
     "data": {
      "text/plain": [
       "'On the 23rd November 2024, there was 29.7 mm of rainfall.'"
      ]
     },
     "execution_count": 231,
     "metadata": {},
     "output_type": "execute_result"
    }
   ],
   "source": [
    "f'On the 23rd November 2024, there was {storm_bert_df.loc['2024-11-23', 'rainfall'].sum().round(2)} mm of rainfall.'"
   ]
  },
  {
   "cell_type": "code",
   "execution_count": 51,
   "metadata": {},
   "outputs": [
    {
     "data": {
      "image/png": "[encoded data removed]",
      "text/plain": [
       "<Figure size 800x550 with 1 Axes>"
      ]
     },
     "metadata": {},
     "output_type": "display_data"
    }
   ],
   "source": [
    "# Plot of the Rainfall During Storm Bert\n",
    "\n",
    "fig, ax = plt.subplots()\n",
    "\n",
    "# Configure date formatting for x-axis\n",
    "locator = mdates.AutoDateLocator()\n",
    "formatter = mdates.ConciseDateFormatter(locator)\n",
    "ax.xaxis.set_major_locator(locator)\n",
    "ax.xaxis.set_major_formatter(formatter)\n",
    "\n",
    "# Create plot\n",
    "storm_bert_df['rainfall'].plot(kind = 'bar')\n",
    "\n",
    "# Set title and label axis\n",
    "plt.title('Rainfall during Storm Bert')\n",
    "plt.ylabel('Rainfall (mm)')\n",
    "plt.xlabel('Date')\n",
    "\n",
    "# Display the plot\n",
    "plt.show()"
   ]
  },
  {
   "cell_type": "code",
   "execution_count": 233,
   "metadata": {},
   "outputs": [
    {
     "data": {
      "text/plain": [
       "np.int64(1010)"
      ]
     },
     "execution_count": 233,
     "metadata": {},
     "output_type": "execute_result"
    }
   ],
   "source": [
    "df.loc['2024-11-22', 'pressure'].max()"
   ]
  },
  {
   "cell_type": "markdown",
   "metadata": {},
   "source": [
    "The get() method returns the value of the item with the specified key."
   ]
  },
  {
   "cell_type": "markdown",
   "metadata": {},
   "source": [
    "https://python-graph-gallery.com/line-chart-dual-y-axis-with-matplotlib/#:~:text=It%20uses%20ax.,Y%20axis%20on%20this%20twin.\n",
    "\n"
   ]
  },
  {
   "cell_type": "code",
   "execution_count": 234,
   "metadata": {},
   "outputs": [
    {
     "data": {
      "image/png": "[encoded data removed]",
      "text/plain": [
       "<Figure size 800x550 with 2 Axes>"
      ]
     },
     "metadata": {},
     "output_type": "display_data"
    }
   ],
   "source": [
    "# Plot the rainfall and air pressure on twin axis plot\n",
    "fig, ax = plt.subplots()\n",
    "\n",
    "# Configure date formatting for x-axis\n",
    "locator = mdates.AutoDateLocator()\n",
    "formatter = mdates.ConciseDateFormatter(locator)\n",
    "ax.xaxis.set_major_locator(locator)\n",
    "ax.xaxis.set_major_formatter(formatter)\n",
    "\n",
    "# Plot rainfall\n",
    "sns.lineplot(x=df.index, y='rainfall', data=df, ax = ax, color = 'r')\n",
    "\n",
    "ax2 = ax.twinx()\n",
    "\n",
    "# Plot air pressure\n",
    "sns.lineplot(x=df.index, y='pressure', data=df, ax = ax2)\n",
    "\n",
    "# Set Title and label axis\n",
    "plt.title('Rainfall and Air Pressure During Storm Bert')\n",
    "plt.xlabel('Date')\n",
    "\n",
    "# Display the plot\n",
    "plt.show()"
   ]
  },
  {
   "cell_type": "code",
   "execution_count": 235,
   "metadata": {},
   "outputs": [
    {
     "data": {
      "image/png": "[encoded data removed]",
      "text/plain": [
       "<Figure size 800x550 with 2 Axes>"
      ]
     },
     "metadata": {},
     "output_type": "display_data"
    }
   ],
   "source": [
    "# Plot the temperature and air pressure on twin axis plot\n",
    "fig, ax = plt.subplots()\n",
    "\n",
    "# Configure date formatting for x-axis\n",
    "locator = mdates.AutoDateLocator()\n",
    "formatter = mdates.ConciseDateFormatter(locator)\n",
    "ax.xaxis.set_major_locator(locator)\n",
    "ax.xaxis.set_major_formatter(formatter)\n",
    "\n",
    "sns.lineplot(x=df.index, y='temperature', data=df, ax = ax, color = 'r')\n",
    "\n",
    "ax2 = ax.twinx()\n",
    "\n",
    "sns.lineplot(x=df.index, y='pressure', data=df, ax = ax2)\n",
    "\n",
    "# Set Title and label axis\n",
    "plt.title('Temperature and Air Pressure During Storm Bert')\n",
    "plt.xlabel('Date')\n",
    "\n",
    "# Display the plot\n",
    "plt.show()"
   ]
  },
  {
   "cell_type": "markdown",
   "metadata": {},
   "source": [
    "As the storm approached the air pressure dropped and remained low for the duration of the storm. With the arrival of Storm Bert, the rainfall and temperature increased. "
   ]
  },
  {
   "cell_type": "code",
   "execution_count": 236,
   "metadata": {},
   "outputs": [
    {
     "data": {
      "image/png": "[encoded data removed]",
      "text/plain": [
       "<Figure size 1400x500 with 3 Axes>"
      ]
     },
     "metadata": {},
     "output_type": "display_data"
    }
   ],
   "source": [
    "fig, ax = plt.subplots(1, 3, figsize = (14,5))\n",
    "\n",
    "sns.regplot(data = df, x = 'pressure', y = 'temperature', ax= ax[0])\n",
    "sns.regplot(data = df, x = 'pressure', y = 'windSpeed', ax= ax[1])\n",
    "sns.regplot(data = df, x = 'pressure', y = 'rainfall', ax= ax[2])\n",
    "\n",
    "plt.show()"
   ]
  },
  {
   "cell_type": "code",
   "execution_count": 237,
   "metadata": {},
   "outputs": [
    {
     "data": {
      "text/html": [
       "<div>\n",
       "<style scoped>\n",
       "    .dataframe tbody tr th:only-of-type {\n",
       "        vertical-align: middle;\n",
       "    }\n",
       "\n",
       "    .dataframe tbody tr th {\n",
       "        vertical-align: top;\n",
       "    }\n",
       "\n",
       "    .dataframe thead th {\n",
       "        text-align: right;\n",
       "    }\n",
       "</style>\n",
       "<table border=\"1\" class=\"dataframe\">\n",
       "  <thead>\n",
       "    <tr style=\"text-align: right;\">\n",
       "      <th></th>\n",
       "      <th>temperature</th>\n",
       "      <th>windSpeed</th>\n",
       "      <th>windDirection</th>\n",
       "      <th>humidity</th>\n",
       "      <th>rainfall</th>\n",
       "      <th>pressure</th>\n",
       "    </tr>\n",
       "  </thead>\n",
       "  <tbody>\n",
       "    <tr>\n",
       "      <th>temperature</th>\n",
       "      <td>1.00</td>\n",
       "      <td>0.73</td>\n",
       "      <td>0.11</td>\n",
       "      <td>-0.53</td>\n",
       "      <td>0.40</td>\n",
       "      <td>-0.93</td>\n",
       "    </tr>\n",
       "    <tr>\n",
       "      <th>windSpeed</th>\n",
       "      <td>0.73</td>\n",
       "      <td>1.00</td>\n",
       "      <td>-0.12</td>\n",
       "      <td>-0.25</td>\n",
       "      <td>0.63</td>\n",
       "      <td>-0.78</td>\n",
       "    </tr>\n",
       "    <tr>\n",
       "      <th>windDirection</th>\n",
       "      <td>0.11</td>\n",
       "      <td>-0.12</td>\n",
       "      <td>1.00</td>\n",
       "      <td>-0.33</td>\n",
       "      <td>-0.21</td>\n",
       "      <td>0.01</td>\n",
       "    </tr>\n",
       "    <tr>\n",
       "      <th>humidity</th>\n",
       "      <td>-0.53</td>\n",
       "      <td>-0.25</td>\n",
       "      <td>-0.33</td>\n",
       "      <td>1.00</td>\n",
       "      <td>0.23</td>\n",
       "      <td>0.53</td>\n",
       "    </tr>\n",
       "    <tr>\n",
       "      <th>rainfall</th>\n",
       "      <td>0.40</td>\n",
       "      <td>0.63</td>\n",
       "      <td>-0.21</td>\n",
       "      <td>0.23</td>\n",
       "      <td>1.00</td>\n",
       "      <td>-0.38</td>\n",
       "    </tr>\n",
       "    <tr>\n",
       "      <th>pressure</th>\n",
       "      <td>-0.93</td>\n",
       "      <td>-0.78</td>\n",
       "      <td>0.01</td>\n",
       "      <td>0.53</td>\n",
       "      <td>-0.38</td>\n",
       "      <td>1.00</td>\n",
       "    </tr>\n",
       "  </tbody>\n",
       "</table>\n",
       "</div>"
      ],
      "text/plain": [
       "               temperature  windSpeed  windDirection  humidity  rainfall  \\\n",
       "temperature           1.00       0.73           0.11     -0.53      0.40   \n",
       "windSpeed             0.73       1.00          -0.12     -0.25      0.63   \n",
       "windDirection         0.11      -0.12           1.00     -0.33     -0.21   \n",
       "humidity             -0.53      -0.25          -0.33      1.00      0.23   \n",
       "rainfall              0.40       0.63          -0.21      0.23      1.00   \n",
       "pressure             -0.93      -0.78           0.01      0.53     -0.38   \n",
       "\n",
       "               pressure  \n",
       "temperature       -0.93  \n",
       "windSpeed         -0.78  \n",
       "windDirection      0.01  \n",
       "humidity           0.53  \n",
       "rainfall          -0.38  \n",
       "pressure           1.00  "
      ]
     },
     "execution_count": 237,
     "metadata": {},
     "output_type": "execute_result"
    }
   ],
   "source": [
    "# Calculate correlation coefficients\n",
    "correlation_matrix = df.corr(numeric_only= True).round(2)\n",
    "\n",
    "correlation_matrix\n",
    "\n",
    "# https://www.geeksforgeeks.org/python-pandas-dataframe-corr/"
   ]
  },
  {
   "cell_type": "markdown",
   "metadata": {},
   "source": [
    "### Storm Darragh"
   ]
  },
  {
   "cell_type": "code",
   "execution_count": 238,
   "metadata": {},
   "outputs": [
    {
     "data": {
      "text/plain": [
       "'The mean wind speeds recorded during Storm Darragh was 48.45 knots.'"
      ]
     },
     "execution_count": 238,
     "metadata": {},
     "output_type": "execute_result"
    }
   ],
   "source": [
    "f'The mean wind speeds recorded during Storm Darragh was {storm_darragh_df['windSpeed'].mean().round(2)} knots.'"
   ]
  },
  {
   "cell_type": "code",
   "execution_count": 239,
   "metadata": {},
   "outputs": [
    {
     "data": {
      "text/plain": [
       "'The maximum wind gust recorded during Storm Darragh was 102 knots.'"
      ]
     },
     "execution_count": 239,
     "metadata": {},
     "output_type": "execute_result"
    }
   ],
   "source": [
    "f'The maximum wind gust recorded during Storm Darragh was {storm_darragh_df['windGust'].max()} knots.'"
   ]
  },
  {
   "cell_type": "code",
   "execution_count": 240,
   "metadata": {},
   "outputs": [
    {
     "data": {
      "text/plain": [
       "'The total rainfall recorded during Storm Darragh was 4.0 mm.'"
      ]
     },
     "execution_count": 240,
     "metadata": {},
     "output_type": "execute_result"
    }
   ],
   "source": [
    "f'The total rainfall recorded during Storm Darragh was {storm_darragh_df['rainfall'].sum()} mm.'"
   ]
  },
  {
   "cell_type": "code",
   "execution_count": 241,
   "metadata": {},
   "outputs": [
    {
     "data": {
      "text/plain": [
       "'The mean temperature during Storm Darragh was 6.36°C.'"
      ]
     },
     "execution_count": 241,
     "metadata": {},
     "output_type": "execute_result"
    }
   ],
   "source": [
    "f'The mean temperature during Storm Darragh was {storm_darragh_df['temperature'].mean().round(2)}°C.'"
   ]
  },
  {
   "cell_type": "code",
   "execution_count": 242,
   "metadata": {},
   "outputs": [
    {
     "data": {
      "text/plain": [
       "'NW'"
      ]
     },
     "execution_count": 242,
     "metadata": {},
     "output_type": "execute_result"
    }
   ],
   "source": [
    "f'{storm_darragh_df['cardinalWindDirection'].mode()[0]}'"
   ]
  },
  {
   "cell_type": "code",
   "execution_count": 243,
   "metadata": {},
   "outputs": [
    {
     "data": {
      "text/plain": [
       "np.int64(1014)"
      ]
     },
     "execution_count": 243,
     "metadata": {},
     "output_type": "execute_result"
    }
   ],
   "source": [
    "df.loc['2024-11-26', 'pressure'].max()"
   ]
  },
  {
   "cell_type": "markdown",
   "metadata": {},
   "source": [
    "### Summary of the Weather for the 20th - 26th November 2024.\n",
    "\n",
    "Over the course of the week the weather was predominantly dry with weather descriptions of either fair or cloudy with an average temperature of 3.25°C. The maximum temperature, 13°C was recorded on the 23rd November 2024 at 7am, and the minimum temperature of -3°C was recorded on the 20th November at 2am. \n",
    "\n",
    "With the approach of Storm Bert the air pressure dropped rapidly from 1010 hPa on the 22nd November, 2024 to a minimum of 976 hPa. As the air pressure dropped, the air temperature and the rain fall increased. Correlation analysis showed that there was a strong negative correlation between air pressure and temperature with a correlation coefficient of -0.93. There was also a moderate negative correlation between air pressure and wind speed, with a correlation coefficient of -0.78. \n",
    "\n",
    "Met Éireann issued a red level rainfall warning for Storm Bert for the night of Saturday, 23rd November. A red warning is issued for extremely dangerous or destructive weather conditions. The rainfall measurements for this time period reflect this. Most of the rainfall for the week occurred during Storm Bert with 30.83 mm of rainfall recorded during the storm period. Most of this, 29.7mm of rain fell between 00:00 and 9 am on Saturday, 23rd November. At 4 am, 4.9 mm of rain fell. There was predominantly a southerly wind with average speeds of 25.45 knots. The maximum wind gust was 61 knots. The air pressure began to rise slowly as Storm Bert passed, and by the 26th November the air pressure was 1014 hPa."
   ]
  },
  {
   "cell_type": "markdown",
   "metadata": {},
   "source": [
    "### Brief Comparison of Storm Bert and Storm Darragh\n",
    "\n",
    "While Storm Darragh and Storm Bert were both issued with red weather warnings, they were issued for different reasons. Storm Darragh was issued with a red weather wind warning from 10 pm on Friday, 6th December to Saturday, 7th December. Rainfall during Storm Bert was significantly greater than during Storm Darragh. During Storm Bert, 30.83 mm of rainfall was recorded, whereas during Storm Darragh only 4.0 mm of rain fell. Very strong north westerly wind speeds were recorded for Storm Darragh with average wind speeds of 48.45 knots and a maximum gust of 102 knots at recorded at 1 am. The maximum gust recorded for Storm Bert was 61 knots. "
   ]
  },
  {
   "cell_type": "markdown",
   "metadata": {},
   "source": [
    "## References\n",
    "\n",
    "https://ubuntu.com/tutorials/command-line-for-beginners\n",
    "\n",
    "[Linux operators and more](https://www.networkworld.com/article/2516127/linux-operators-using-and-many-more.html)\n",
    "\n",
    "youTube Corey Schafer Linux/Mac Terminal Tutorial: Navigating your Filesystem https://www.youtube.com/watch?v=j6vKLJxAKfw&list=PL-osiE80TeTvGhHkpvfmKWOiIPF8UVy6c\n",
    "\n",
    "[pandas.to_timedelta](https://pandas.pydata.org/docs/reference/api/pandas.to_timedelta.html)\n",
    "\n",
    "[geeksforgeeks.org, how to use glob function to find files recursively in python](https://www.geeksforgeeks.org/how-to-use-glob-function-to-find-files-recursively-in-python/)"
   ]
  },
  {
   "cell_type": "markdown",
   "metadata": {},
   "source": [
    "End\n",
    "\n",
    "***"
   ]
  }
 ],
 "metadata": {
  "kernelspec": {
   "display_name": "base",
   "language": "python",
   "name": "python3"
  },
  "language_info": {
   "codemirror_mode": {
    "name": "ipython",
    "version": 3
   },
   "file_extension": ".py",
   "mimetype": "text/x-python",
   "name": "python",
   "nbconvert_exporter": "python",
   "pygments_lexer": "ipython3",
   "version": "3.11.9"
  }
 },
 "nbformat": 4,
 "nbformat_minor": 2
}
