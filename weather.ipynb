{
 "cells": [
  {
   "cell_type": "markdown",
   "metadata": {},
   "source": [
    "# __Task 8: weather.ipynb Notebook__\n",
    "\n",
    "__Brief:__ Create a notebook called ``weather.ipynb`` at the root of your repository. Write a brief report explaining how you completed Tasks 1 to 7. Provide short descriptions of the commands used in each task and explain their role in completing the tasks.\n",
    "\n",
    "![Task 8](img\\task8.png)\n",
    "\n",
    "The command shell of [Github Codespaces](https://docs.github.com/en/codespaces) was used for running the commands."
   ]
  },
  {
   "cell_type": "markdown",
   "metadata": {},
   "source": [
    "## Task 1 Create Directory Structure\n",
    "\n",
    "__Brief:__ Using the command line, create a directory named `data` at the root of your repository. Inside `data`, create two subdirectories: `timestamps` and `weather`.\n",
    "\n",
    "__Command name:__ [`mkdir`]() \n",
    "\n",
    "__Purpose of the command:__ To create new directories. `mkdir` stands for 'make directory'.\n",
    "\n",
    "__Command Syntax:__ `mkdir` [options..] [directory name/subdirectory]\n",
    "\n",
    "The data directory and weather subdirectory can be created using `mkdir -p data/weather`. The options (or flags) associated with `mkdir` are discussed in this blog by [geeksforgeeks.org](https://www.geeksforgeeks.org/mkdir-command-in-linux-with-examples/). The `-p` (parent) flag creates the parent directory, which in this case is the `data` directory, if it is not already present. This command could be run a second time changing the subdirectory name to timestamps to complete the brief. However, to create multiple subdirectories inside a directory the following command from [howtogeek.com](https://www.howtogeek.com/275069/how-to-create-multiple-subdirectories-with-one-linux-command/) was used:\n",
    "\n",
    "    $ mkdir -p data/{timestamps,weather}\n",
    "\n",
    "The subdirectories are listed inside the curly braces and there must be no space between subdirectory names. This is a more efficient method of creating multiple subdirectories inside a parent directory.\n",
    "\n",
    "Some additional commands were used to confirm that the data directory and the subdirectories were created. These were `ls` and `cd`. The `ls` command lists the visible files in the current working directory. To view all the files including the hidden files the command `ls -al` is used. To change to another directory the `cd` command is used. To view the files inside the `data` directory, the cd command was used to change into the `data` directory. The use of `ls` and `cd` is demonstrated in the image below.\n",
    "\n",
    "![Task 1](img/task1.png)\n",
    "\n",
    "https://ubuntu.com/tutorials/command-line-for-beginners#4-creating-folders-and-files\n",
    "\n",
    "https://www.redhat.com/en/blog/create-delete-files-directories-linux"
   ]
  },
  {
   "cell_type": "markdown",
   "metadata": {},
   "source": [
    "## Task 2 Timestamps\n",
    "\n",
    "__Brief:__ Navigate to the `data/timestamps` directory. Use the `date` command to output the current date and time, appending \n",
    "the output to a file named `now.txt`. Use the ``>>`` operator to append (not overwrite) the file. Repeat this step \n",
    "ten times, then use the `more` command to verify that `now.txt` has the expected content.\n",
    "\n",
    "__Command name:__ `date` \n",
    "\n",
    "__Purpose of the command:__ To display the system time and date.\n",
    "\n",
    "__Command Syntax:__ `date` [option] [+FORMAT]\n",
    "\n",
    "The image below demonstrates the output of the date command, showing the day, date, time and timezone. https://www.geeksforgeeks.org/date-command-linux-examples/\n",
    "\n",
    "![Date command](img\\task2date.png)\n",
    "\n",
    "The output of a command can be appended to a file with the append operator, ``>>``. If the file does not exist a new file will be created. To append the date and time to a file the syntax is ``date >> filename``\n",
    " \n",
    "![Task 2](img/task2.png)\n",
    "\n",
    "The date command was run 10 times and the output was saved to now.txt.\n",
    "\n",
    "__Command name:__ `more` \n",
    "\n",
    "__Purpose of the command:__ To view the contents of a file in the command line. \n",
    "\n",
    "__Command Syntax:__ `more` filename\n",
    "\n",
    "![Task 2a](img/task2more.png)\n",
    "\n",
    "https://www.tutorialspoint.com/date-command-in-linux\n",
    "\n",
    "https://medium.com/@riddhijani181/date-command-in-linux-308b64014dd3\n",
    "\n",
    "[linux operators](https://www.networkworld.com/article/2516127/linux-operators-using-and-many-more.html)"
   ]
  },
  {
   "cell_type": "markdown",
   "metadata": {},
   "source": [
    "## Task 3 Formatted Timestamps\n",
    "\n",
    "__Brief:__ Run the ``date`` command again, format the output using ``YYYYmmdd_HHMMSS`` (e.g., 20261114_130003 for \n",
    "1:00:03 PM on November 14, 2026). Append the formatted output to a file named ``formatted.txt``.\n",
    "\n",
    "date command, Refer to the ``date`` man page (using ``man date``) for more formatting options. (Press q to exit the man page). \n",
    "\n",
    "references on formatting timestamps.\n",
    "\n",
    "![Task 3](img/task3.png)\n",
    "\n",
    "https://www.redhat.com/en/blog/formatting-date-command"
   ]
  },
  {
   "cell_type": "markdown",
   "metadata": {},
   "source": [
    "## Task 4 Create Timestamped Files\n",
    "\n",
    "__Brief:__ Use the ``touch`` command to create an empty file with a name in the ``YYYYmmdd_HHMMSS.txt`` format. You can achieve this by embedding your date command in backticks ` into the ``touch`` command. You should no longer use redirection (>>) in this step.\n",
    "\n",
    "\n",
    "__Command name:__ `touch` \n",
    "\n",
    "__Purpose of the command:__\n",
    "\n",
    "__Command Syntax:__ `touch`\n",
    "\n",
    "the `>` operator. The content of the file is replaced. \n",
    "![Task 4](img/task4.png)"
   ]
  },
  {
   "cell_type": "markdown",
   "metadata": {},
   "source": [
    "## Task 5 Download Today's Weather Data\n",
    "\n",
    "__Brief:__ Change to the ``data/weather directory``. Download the latest weather data for the Athenry weather station from Met Eireann using ``wget``. Use the ``-O <filename>`` option to save the file as ``weather.json``. The data can be found at this URL: `https://prodapi.metweb.ie/observations/athenry/today`.\n",
    "\n",
    "__Command name:__ `wget` \n",
    "\n",
    "__Purpose of the command:__\n",
    "\n",
    "__Command Syntax:__ `wget`"
   ]
  },
  {
   "cell_type": "markdown",
   "metadata": {},
   "source": [
    "## Task 6 Timestamp the Data\n",
    "\n",
    "__Brief:__ Modify the command from Task 5 to save the downloaded file with a timestamped name in the format ``YYYYmmdd_HHMMSS.json``"
   ]
  },
  {
   "cell_type": "markdown",
   "metadata": {},
   "source": [
    "## Task 7 Write the Script\n",
    "\n",
    "__Brief:__ Write a bash script called ``weather.sh`` in the root of your repository. This script should automate the process from Task 6, saving the weather data to the ``data/weather`` directory. Make the script executable and test it by running it."
   ]
  },
  {
   "cell_type": "markdown",
   "metadata": {},
   "source": []
  },
  {
   "cell_type": "markdown",
   "metadata": {},
   "source": [
    "References\n",
    "\n",
    "https://ubuntu.com/tutorials/command-line-for-beginners"
   ]
  }
 ],
 "metadata": {
  "kernelspec": {
   "display_name": "base",
   "language": "python",
   "name": "python3"
  },
  "language_info": {
   "name": "python",
   "version": "3.11.9"
  }
 },
 "nbformat": 4,
 "nbformat_minor": 2
}
