{
 "cells": [
  {
   "cell_type": "markdown",
   "metadata": {},
   "source": [
    "![Banner](img/banner.png)\n",
    "\n",
    "# __Task 8: weather.ipynb__"
   ]
  },
  {
   "cell_type": "markdown",
   "metadata": {},
   "source": [
    "__Brief:__ Create a notebook called ``weather.ipynb`` at the root of your repository. Write a brief report explaining how you completed Tasks 1 to 7. Provide short descriptions of the commands used in \n",
    "each task and explain their role in completing the tasks.\n",
    "\n",
    "![Task 8](img/task8.png)"
   ]
  },
  {
   "cell_type": "markdown",
   "metadata": {},
   "source": [
    "## What is GitHub Codespaces?\n",
    "\n",
    "[Github Codespaces](https://docs.github.com/en/codespaces) gives access to a remote computer in the cloud with Visual Studio Code as the default text editor. The codespace runs in a Ubuntu Linux environment, regardless of the local operating system. Linux is a kernel, the core of an operating system that interacts with your hardware. It is free, open source can be configured to the users specifications. Ubuntu is a flavour of Linux and is the most popular Linux distribution.\n",
    "\n",
    "Codespace launches a fully featured Visual Studio Code in the browser but Codespaces can be fully customised to other text editors. \n",
    "\n",
    "For this assessment the terminal of Visual Studio Code in GitHub Codespaces was used for running the commands. A Bash shell is opened by default. Bash is a shell program that provides a command line interface for interacting with the operating system. The Bash program is found in the bin directory. Bash is the default shell in many Linux distributions. A command is entered in the command line interface, interpreted by the shell and executed by the operating system. ([Bash in 100 seconds](https://www.youtube.com/watch?v=I4EWvMFj37g)). Bash is much more than a simple command/response system. It also a programming language that allows users to create bash scripts to automate tasks. A Bash script will written for Task 7 of this assessment. \n",
    "\n",
    "Typically the terminal is usually on the bottom of the screen, to have a larger terminal area, in the Command prompt use: Terminal: Create New Terminal in Editor Area. \n",
    "\n",
    "https://www.reddit.com/r/learnprogramming/comments/r4or28/can_someone_please_explain_what_a_bash_and_shell/\n",
    "\n",
    "When a shell is used interactively, it displays a $ when it is waiting for a command from the user. \n",
    "\n",
    "Even though you are working in GitHub Codespaces, your work is not automatically pushed to your GitHub repository. Regular commits of your work still need to be pushed to your GitHub repository in the usual manner. \n",
    "\n",
    "Pushing to GitHub\n",
    "\n",
    "```python\n",
    "git .\n",
    "git commit -m \"your commit message\"\n",
    "git push\n",
    "```\n",
    "\n",
    "__References__\n",
    "\n",
    "[GitHub Codespaces](https://code.visualstudio.com/docs/remote/codespaces)\n",
    "\n",
    "[Bash scripting tutorial - Linux ShBell script & command line for beginners](https://www.freecodecamp.org/news/bash-scripting-tutorial-linux-shell-script-and-command-line-for-beginners/)"
   ]
  },
  {
   "cell_type": "markdown",
   "metadata": {},
   "source": [
    "## Task 1 Create Directory Structure\n",
    "\n",
    "__Brief:__ Using the command line, create a directory named `data` at the root of your repository. Inside `data`, create two subdirectories: `timestamps` and `weather`.\n",
    "\n",
    "|__Command Name:__|`mkdir`|\n",
    "|:---|:---|\n",
    "|__Purpose of the Command:__|To create new directories. `mkdir` stands for 'make directory'.|\n",
    "|__Command Syntax:__ | `mkdir` [options] [directory name/subdirectory]|\n",
    "\n",
    "\n",
    "The data directory and weather subdirectory can be created using `mkdir -p data/weather`. The options (or flags) associated with `mkdir` are discussed in this blog by [geeksforgeeks.org](https://www.geeksforgeeks.org/mkdir-command-in-linux-with-examples/). The `-p` (parent) flag creates the parent directory, which in this case is the `data` directory, if it is not already present. This command could be run a second time changing the subdirectory name to timestamps to complete the brief. However, to create multiple subdirectories inside a directory the following command from [howtogeek.com](https://www.howtogeek.com/275069/how-to-create-multiple-subdirectories-with-one-linux-command/) was used:\n",
    "\n",
    "    $ mkdir -p data/{timestamps,weather}\n",
    "\n",
    "The subdirectories are listed inside the curly braces and there must be no space between subdirectory names. This is a more efficient method of creating multiple subdirectories inside a parent directory.\n",
    "\n",
    "To confirm that the data directory and the subdirectories were created the `ls` command was then used. The `ls` command lists the visible files in the current working directory. To view all the files including the hidden files the command `ls -al` is used. \n",
    "\n",
    "|__Command Name:__|`ls`||\n",
    "|:---|:---|:---|\n",
    "|__Purpose of the Command:__|To list the visible contents in the current directory. ||\n",
    "|__Command Syntax:__ | `ls` [options] ||\n",
    "|__Some Useful Options__| -a| List all files including hidden files|\n",
    "||-l|Gives a long listing of the files|\n",
    "|__Reference__||https://www.geeksforgeeks.org/ls-command-in-linux/|\n",
    "\n",
    "\n",
    "\n",
    "To change to a different directory the `cd` command (which stands for 'change directory') is used. To view the files inside the `data` directory, the `cd` command was used to change into the `data` directory. \n",
    "\n",
    "|__Command Name:__|`cd`|https://www.geeksforgeeks.org/cd-command-in-linux-with-examples/|\n",
    "|:---|:---|:---|\n",
    "|__Purpose of the Command:__|To change directory.||\n",
    "|__Command Syntax:__ | `cd` [directory name] ||\n",
    "|__Additional Information__| `cd` ..| To move up one level from the current directory|\n",
    "||`cd .` |The current directory|\n",
    "||`cd` /|To change to the root directory|\n",
    "\n",
    "The use of `ls` and `cd` is demonstrated in the image below.\n",
    "\n",
    "![Task 1](img/task1.png)\n",
    "\n",
    "To remove an empty directory the `rmdir` command is used. You must be in the parent directory of the directory you wish to remove.\n",
    "\n",
    "|__Command Name:__|`rmdir`|https://www.geeksforgeeks.org/how-to-remove-directory-in-linux/|\n",
    "|:---|:---|:---|\n",
    "|__Purpose of the Command:__|To delete an empty directory.||\n",
    "|__Command Syntax:__ | `rmdir` [options] [directory name] ||\n",
    "|__Some Useful Options__| -p| Removes the directory along with its parent|\n",
    "\n",
    "\n",
    "Additional References Used.\n",
    "\n",
    "[ubuntu, command line for beginners, creating folders and files](https://ubuntu.com/tutorials/command-line-for-beginners#4-creating-folders-and-files)\n",
    "\n",
    "[redhat.com, Create, delete files and directories](https://www.redhat.com/en/blog/create-delete-files-directories-linux)"
   ]
  },
  {
   "cell_type": "markdown",
   "metadata": {},
   "source": [
    "## Task 2 Timestamps\n",
    "\n",
    "__Brief:__ Navigate to the `data/timestamps` directory. Use the `date` command to output the current date and time, appending \n",
    "the output to a file named `now.txt`. Use the ``>>`` operator to append (not overwrite) the file. Repeat this step \n",
    "ten times, then use the `more` command to verify that `now.txt` has the expected content.\n",
    "\n",
    "|__Command Name:__|`date`||\n",
    "|:---|:---|:---|\n",
    "|__Purpose of the Command:__|To display the system time and date.||\n",
    "|__Command Syntax:__ | `date` [options] [+FORMAT]||\n",
    "|__Some Options__|-u| Display time in universal time (UTC)|\n",
    "||-Z [timezone]|Display time in a specified timezone|\n",
    "\n",
    "This [article on geeksforgeeks.org](https://www.geeksforgeeks.org/date-command-linux-examples/) is a nice synopsis of the uses of the date command. It explains the basics from how to display past dates and also how to use the format specifiers that will be used in Task 3.\n",
    "\n",
    "The image below demonstrates the output of the date command, showing the day, date, time and timezone. \n",
    "\n",
    "![Date command](img/task2date.png)\n",
    "\n",
    "The output of a command can be appended to a file with the append operator, ``>>``. If the file does not exist a new file will be created. To append the date and time to a file the syntax is:\n",
    "``date >> filename`` as shown in the image below.\n",
    "\n",
    "The date command was run 10 times and the output was appended to now.txt. To avoid typing \"more >> now.txt\" ten times, on the keyboard use the up arrow and press enter to run the command!\n",
    "\n",
    "![Task 2](img/task2.png)\n",
    "\n",
    "When writing the output to a file, it is important to choose the correct operator. There is a similar operator to the ``>>``operator, the `>` operator. It has a similar function to the `>>` operator in that it writes content to a file but there is one significant difference between them. With `>`, the contents of the file are \n",
    "overwritten, `>>` appends the output to the file. `>` and `>>` are called [redirection operators](https://www.freecodecamp.org/news/linux-terminal-piping-and-redirection-guide/). These redirection\n",
    "operators and other common operators are discussed in this [blog](https://www.makeuseof.com/linux-command-line-chaining-operators/).\n",
    "\n",
    "The `more` command was used to verify that now.txt contained the expected output of the date and time. \n",
    "\n",
    "|__Command Name:__|`more`|https://www.geeksforgeeks.org/more-command-in-linux-with-examples/|\n",
    "|:---|:---|:---|\n",
    "|__Purpose of the Command:__|Reads files and displays the contents of a file in the command line one screen at a time.||\n",
    "|__Command Syntax:__ | `more` [options] [filename]||\n",
    "|__Additional Information__|Enter key|Scrolls down one line at a time|\n",
    "||Space bar|Moves to the next page or screen|\n",
    "||'q' key|Quit the command and exit the view|\n",
    "\n",
    "\n",
    "![Task 2a](img/task2more.png)\n",
    "\n",
    "\n",
    "Additional References\n",
    "\n",
    "https://www.tutorialspoint.com/date-command-in-linux\n",
    "\n",
    "https://medium.com/@riddhijani181/date-command-in-linux-308b64014dd3\n",
    "\n",
    "[linux operators](https://www.networkworld.com/article/2516127/linux-operators-using-and-many-more.html)"
   ]
  },
  {
   "cell_type": "markdown",
   "metadata": {},
   "source": [
    "## Task 3 Formatted Timestamps\n",
    "\n",
    "__Brief:__ Run the ``date`` command again, format the output using ``YYYYmmdd_HHMMSS`` (e.g. 20261114_130003 for 1:00:03 PM on November 14, 2026). Append the formatted output to a file named ``formatted.txt``. Refer to the ``date`` man page (using ``man date``) for more formatting options.\n",
    "\n",
    "|__Command Name:__|`man`|\n",
    "|---|---|\n",
    "|__Purpose of the Command:__|The `man` command, which is short for manual, is used to get additional information about a command.|\n",
    "|__Command Syntax:__ |`man` command|\n",
    "|__Additional Information__|Press q to quit|\n",
    "\n",
    "![command line with man](img/task3a.png)\n",
    "\n",
    "For example the date `man` page contains information on formatting options for the date along with the options that are associated with `date`.\n",
    "\n",
    "![Snippet of man date page](img/task3man.png)\n",
    "\n",
    "From Task 2, we saw that the syntax to format the date command is:\n",
    "\n",
    "    date +\"format sequence\"\n",
    "\n",
    "For example to see the abbreviated weekday name the format sequence, %a is used. This [blog post](https://phoenixnap.com/kb/linux-date-command) was particularly helpful in understanding the scope of the date command. For this task the date should be formatted as YYYYmmdd_HHMMSS and the format for this is %Y%m%d_%H%M%S. MORE DETAIL\n",
    "\n",
    "![Task 3](img/task3.png)\n",
    "\n",
    "The more command to view the output that has been saved to formatted.txt. The date has now been written to formatted.txt in the desired format.\n",
    "\n",
    "![Output task 3](img/task3output.png)\n",
    "\n",
    "Additional References\n",
    "\n",
    "https://www.redhat.com/en/blog/formatting-date-command"
   ]
  },
  {
   "cell_type": "markdown",
   "metadata": {},
   "source": [
    "## Task 4 Create Timestamped Files\n",
    "\n",
    "__Brief:__ Use the ``touch`` command to create an empty file with a name in the ``YYYYmmdd_HHMMSS.txt`` format. You can achieve this by embedding your date command in backticks ` into the ``touch`` command. You should no longer use redirection (>>) in this step.\n",
    "\n",
    "|__Command Name:__|`touch`||\n",
    "|:---|:---|:---|\n",
    "|__Purpose of the Command:__|Used to create an empty file and to update the timestamps of existing files||\n",
    "|__Command Syntax:__ |`touch` [options] [filename]||\n",
    "|__Some Options__|-a |Update the access time|\n",
    "||-m|Updates the modification time|\n",
    "|__Reference__||https://www.geeksforgeeks.org/touch-command-in-linux-with-examples/|\n",
    "\n",
    "\n",
    "Backticks are officially referred to as [command substitution](https://pubs.opengroup.org/onlinepubs/9699919799/utilities/V3_chap02.html#tag_18_06_03). Command substitution allows the output of a command to replace the command itself. While researching the function and uses of backticks, I found this discussion on [reddit](https://www.reddit.com/r/bash/comments/w3jqlz/do_you_prefer_backticks_or_parentheses_for/) that discusses the use of backticks. It appears that a newer syntax of `$()` should be used instead of backticks. `$()` can simplify the code and it avoids the [issues that the use of backticks can create](https://www.redhat.com/en/blog/backtick-operator-vs-parens) e.g. if the command that is embedded with backticks contains backticks. \n",
    "\n",
    "It is worth mentioning that when the name of a file is a timestamp formatted as YYYYmmdd_HHMMSS the files will be listed numerically in the directory, with the most recent file first.\n",
    "\n",
    "For this task, the touch command will create the new file and embedding the formatted date command in backticks will give the file the desired name as a timestamp.\n",
    " \n",
    "![Task 4 touch command](img/task4_corrected.png)\n",
    "\n",
    "To confirm that the file has been created with a timestamp name ``ls -al`` command was used in the timestamps directory. The file 20241022_124153.txt was created by this command. ``ls -al`` shows that the file is empty with size of 0 and this is confirmed by the `more` command. No output was written to the terminal.\n",
    "\n",
    "![Task4 ls -al and more](img/task4lsmore.png)\n",
    "\n",
    "Additional references.\n",
    "\n",
    "https://www.serveracademy.com/blog/how-to-use-the-touch-command-in-linux/"
   ]
  },
  {
   "cell_type": "markdown",
   "metadata": {},
   "source": [
    "## Task 5 Download Today's Weather Data\n",
    "\n",
    "__Brief:__ Change to the ``data/weather directory``. Download the latest weather data for the Athenry weather station from Met Éireann using ``wget``. Use the `-O <filename>` option to save the file as ``weather.json``. The data can be found at this URL: `https://prodapi.metweb.ie/observations/athenry/today`.\n",
    "\n",
    "\n",
    "|__Command Name:__|`wget`||\n",
    "|:---|:---|:---|\n",
    "|__Purpose of the Command:__|Downloads files from the internet via HTTP, HTTPS and FTP protocols. ||\n",
    "|__Command Syntax:__ |`wget` [option] [URL]||\n",
    "|__Some Options__|-O filename |O for output. Allows the output to be redirected to a particular file|\n",
    "||-b|Download a file in the background|\n",
    "\n",
    "`wget` is short for \"world wide web get\". It can work in the background while the user is not logged on. It can also download multiple files from a text file, which contains a list of url's.\n",
    "\n",
    "The `-O <filename>` or --output-document=_file_ allows the output to be redirected to a particular file, which in this case is weather.json. \n",
    "\n",
    "\n",
    "![Task 5](img/task5.png)\n",
    "\n",
    "When we run the command we can see that the file has been downloaded from the url and saved to weather.json.\n",
    "\n",
    "__Additional references__\n",
    "\n",
    "[wget command in linux](https://www.geeksforgeeks.org/wget-command-in-linux-unix/)\n",
    "\n",
    "[What is the wget command and how to use it (12 examples included)](https://www.hostinger.com/tutorials/wget-command-examples/)\n",
    "\n",
    "[How to use the wget command in linux](https://medium.com/@learntheshell/how-to-use-the-wget-command-in-linux-b727c1f4d91c)"
   ]
  },
  {
   "cell_type": "markdown",
   "metadata": {},
   "source": [
    "## Task 6 Timestamp the Data\n",
    "\n",
    "__Brief:__ Modify the command from Task 5 to save the downloaded file with a timestamped name in the format ``YYYYmmdd_HHMMSS.json`\n",
    "\n",
    "To save the file with a timestamped name, the date command is embedded in backticks ``date +\"%Y%m%d_%H%M%S.json\"`` is used. This is similar to the command for Task 4 but this time the file will be saved as a json file.\n",
    "From Task 5, the filename after the flag, -O is changed from weather.json to `date +\"%Y%m%d_%H%M%S.json\"`, as shown in the image below.\n",
    "\n",
    "![Task 6](img/task6.png)\n",
    "\n",
    "When the command is run we can see the progress of the wget command with connecting to the Met Éireann website. It also outputs the name of the formatted timestamped file, 20241028_123027.json."
   ]
  },
  {
   "cell_type": "markdown",
   "metadata": {},
   "source": [
    "## Task 7 Write the Script\n",
    "\n",
    "__Brief:__ Write a bash script called ``weather.sh`` in the root of your repository. This script should automate the process from Task 6, saving the weather data to the ``data/weather`` directory. Make the script executable and test it by running it.\n",
    "\n",
    "A [bash script](https://www.datacamp.com/tutorial/how-to-write-bash-script-tutorial?) is a plain text file containing a sequence of commands for a linux system. Bash scripts have a .sh extension. It is used to group commands together so that tasks do not have to be repeatedly manually written. The first line of a bash script always contains the \"shebang\", #!. The shebang is followed by the absolute path of the interpreter that should be used to execute the script. For this script the shebang is followed by the absolute path to bash, /bin/bash so it is telling the terminal that it should use bash to execute the script. The subsequent lines in the script are the commands that we want to run. For this bash script we want to automate the process from Task 6, where the ``wget`` command was used to download today's weather. The bash script, weather.sh is shown in the image below. \n",
    "\n",
    "![Bash script image](img/task7_bash.png)\n",
    "\n",
    "Running the date command before and after `wget` can be helpful to see the time and date the command that the command was started and finished. The `echo` command displays lines of text or strings. According to [geeksforgeeks](https://www.geeksforgeeks.org/echo-command-in-linux-with-examples/) it is commonly used in shell scripts and batch files to output the status text to the screen or file. For weather.sh the ``echo`` command is used to explain what is happening in the script. \n",
    "\n",
    "The script will then need to be made executable. As `weather.sh` is in the root of the repository, when the ``ls -al`` command is ran we see a long listing with all the details of the files and directories as columns. The first letter of the first column gives information on the file type or directory. Looking at the row for data  we see a 'd' as the first letter which indicates a directory. A dash, - indicates an ordinary file. Weather.sh has a -, indicating that it is an ordinary file. After that there are the permissions for each file, divided into 3 permission groups, the user (owner), the group and other. Permissions are indicated by r (read), w (write), x (execute) or - (permission not granted). For `weather.sh` the current permissions are -rw-rw-rw, meaning that the user, group and others have permission to read and write to the file. As there is no x in the permissions the file is not executable by anyone. https://www.ibm.com/docs/en/aix/7.3?topic=l-ls-command. \n",
    "\n",
    "Add nice diagram. to explain user groups etc \n",
    "\n",
    "![How do i Know it's not executable](img/task7a.png)\n",
    "\n",
    "To prove that it is not executable, I attempted to run weather.sh in the command line. The output was 'Permission denied'.\n",
    "\n",
    "![Permission denied](img/task7permissiondenied.png)\n",
    "\n",
    " To make it executable `chmod`, which stands for change mode is used.\n",
    "\n",
    "|__Command Name:__|`chmod`|https://en.wikipedia.org/wiki/Chmod||\n",
    "|:---|:---|:---|\n",
    "|__Purpose of the Command:__|Allows an administrator to set or modify a file's permissions||\n",
    "|__Command Syntax:__ |`chmod` [reference] [operator] [mode] [filename]||\n",
    "|__Options__|references |u: user; g: group; o: others; a: all|\n",
    "||operators |+: adding permissions; -: removing permissions; =: set a permission and remove others|\n",
    "||mode |r: read; w: write; x: execute|\n",
    "__Don't Do This!__|`chmod` 777 filename||\n",
    "\n",
    "For weather.sh we want to make it executable by the owner so u+x is the combination of reference, operator and mode used. It is also possible to list the options numerically. These two short youtube videos [CHMOD Command tutorial - Linux Permissions Made Easy](https://www.youtube.com/watch?v=SCdAvU46ZUc) and [Linux File Permissions in 5 minutes](https://www.youtube.com/watch?v=LnKoncbQBsM) do a great job of explaining how to change permissions using a numeric reference. For this task the numeric code would be 766, which would change the users permissions to execute the script and keep the group and other's permissions the same.\n",
    "\n",
    "![Make it executable](img/task7permissionchanged.png)\n",
    "\n",
    "So after running `chmod ` on weather.sh, the permissions now read -rwxrw-rw-. The user will now be able to execute the script, and the image below shows the output of the script. Adding the date command and echo command before and after running `wget` are very helpful to see the progress of the script file.\n",
    "\n",
    "![Task 7](img/task7c.png)\n",
    "\n",
    "Additional References\n",
    "\n",
    "[How to Use the chmod Command on Linux](https://www.geeksforgeeks.org/chmod-command-linux/)"
   ]
  },
  {
   "cell_type": "markdown",
   "metadata": {},
   "source": [
    "## Task 9 pandas\n",
    "\n",
    "__Brief:__ In weather.ipynb, use pandas read_json() to load in any one of the weather data files that were downloaded with the script. Examine and summarise the data. See the information provided by [data.gov.ie](https://data.gov.ie/dataset/todays-weather-athenry) to write a short explanation of what the data set contains."
   ]
  },
  {
   "cell_type": "markdown",
   "metadata": {},
   "source": [
    "### Short explanation of the data set from [data.gov.ie](https://data.gov.ie/dataset/todays-weather-athenry)\n",
    "\n",
    "This dataset is published by Met Éireann, the Irish National Meteorological Service. They have numerous [weather stations](https://www.met.ie/climate/the-national-observing-network/) throughout the \n",
    "Republic of Ireland and this data set contains the weather observations for the current day for the automatic weather station in Athenry, Co. Galway. The file is written in json and is updated hourly. The temperature (Celsius), weather description, wind speed (kt), wind direction and rainfall (mm) are some of the observations that are recorded every hour on the hour along with the time and date.\n",
    "\n",
    "![Weather station in Athenry](https://www.met.ie/cms/assets/uploads/2017/12/athenry.jpg)\n",
    "\n",
    "_Image: Weather Station in Athenry (from met.ie)_\n",
    "\n",
    "To view [yesterday's weather](https://data.gov.ie/dataset/yesterdays-weather-athenry/resource/0e482a49-c71f-49d9-b9ae-ccedfded126f) a different link is required and the yesterday's weather file is \n",
    "updated daily."
   ]
  },
  {
   "cell_type": "code",
   "execution_count": 51,
   "metadata": {},
   "outputs": [],
   "source": [
    "# Import the required modules\n",
    "import pandas as pd\n",
    "import matplotlib.pyplot as plt\n",
    "import seaborn as sns"
   ]
  },
  {
   "cell_type": "code",
   "execution_count": 54,
   "metadata": {},
   "outputs": [
    {
     "data": {
      "text/html": [
       "<div>\n",
       "<style scoped>\n",
       "    .dataframe tbody tr th:only-of-type {\n",
       "        vertical-align: middle;\n",
       "    }\n",
       "\n",
       "    .dataframe tbody tr th {\n",
       "        vertical-align: top;\n",
       "    }\n",
       "\n",
       "    .dataframe thead th {\n",
       "        text-align: right;\n",
       "    }\n",
       "</style>\n",
       "<table border=\"1\" class=\"dataframe\">\n",
       "  <thead>\n",
       "    <tr style=\"text-align: right;\">\n",
       "      <th></th>\n",
       "      <th>name</th>\n",
       "      <th>temperature</th>\n",
       "      <th>symbol</th>\n",
       "      <th>weatherDescription</th>\n",
       "      <th>text</th>\n",
       "      <th>windSpeed</th>\n",
       "      <th>windGust</th>\n",
       "      <th>cardinalWindDirection</th>\n",
       "      <th>windDirection</th>\n",
       "      <th>humidity</th>\n",
       "      <th>rainfall</th>\n",
       "      <th>pressure</th>\n",
       "      <th>dayName</th>\n",
       "      <th>date</th>\n",
       "      <th>reportTime</th>\n",
       "    </tr>\n",
       "  </thead>\n",
       "  <tbody>\n",
       "    <tr>\n",
       "      <th>0</th>\n",
       "      <td>Athenry</td>\n",
       "      <td>14</td>\n",
       "      <td>46n</td>\n",
       "      <td>Light rain</td>\n",
       "      <td>\"Light rain \"</td>\n",
       "      <td>22</td>\n",
       "      <td>-</td>\n",
       "      <td>SW</td>\n",
       "      <td>225</td>\n",
       "      <td>97</td>\n",
       "      <td>0.7</td>\n",
       "      <td>1015</td>\n",
       "      <td>Monday</td>\n",
       "      <td>2024-10-28</td>\n",
       "      <td>00:00</td>\n",
       "    </tr>\n",
       "    <tr>\n",
       "      <th>1</th>\n",
       "      <td>Athenry</td>\n",
       "      <td>14</td>\n",
       "      <td>05n</td>\n",
       "      <td>Rain showers</td>\n",
       "      <td>\"Rain shower\"</td>\n",
       "      <td>22</td>\n",
       "      <td>-</td>\n",
       "      <td>SW</td>\n",
       "      <td>225</td>\n",
       "      <td>97</td>\n",
       "      <td>0.7</td>\n",
       "      <td>1015</td>\n",
       "      <td>Monday</td>\n",
       "      <td>2024-10-28</td>\n",
       "      <td>01:00</td>\n",
       "    </tr>\n",
       "    <tr>\n",
       "      <th>2</th>\n",
       "      <td>Athenry</td>\n",
       "      <td>14</td>\n",
       "      <td>05n</td>\n",
       "      <td>Rain showers</td>\n",
       "      <td>\"Rain shower\"</td>\n",
       "      <td>20</td>\n",
       "      <td>-</td>\n",
       "      <td>SW</td>\n",
       "      <td>225</td>\n",
       "      <td>98</td>\n",
       "      <td>0.3</td>\n",
       "      <td>1015</td>\n",
       "      <td>Monday</td>\n",
       "      <td>2024-10-28</td>\n",
       "      <td>02:00</td>\n",
       "    </tr>\n",
       "    <tr>\n",
       "      <th>3</th>\n",
       "      <td>Athenry</td>\n",
       "      <td>14</td>\n",
       "      <td>46n</td>\n",
       "      <td>Light rain</td>\n",
       "      <td>\"Light Drizzle \"</td>\n",
       "      <td>15</td>\n",
       "      <td>-</td>\n",
       "      <td>W</td>\n",
       "      <td>270</td>\n",
       "      <td>98</td>\n",
       "      <td>0.4</td>\n",
       "      <td>1015</td>\n",
       "      <td>Monday</td>\n",
       "      <td>2024-10-28</td>\n",
       "      <td>03:00</td>\n",
       "    </tr>\n",
       "    <tr>\n",
       "      <th>4</th>\n",
       "      <td>Athenry</td>\n",
       "      <td>13</td>\n",
       "      <td>46n</td>\n",
       "      <td>Light rain</td>\n",
       "      <td>\"Recent Drizzle \"</td>\n",
       "      <td>17</td>\n",
       "      <td>-</td>\n",
       "      <td>W</td>\n",
       "      <td>270</td>\n",
       "      <td>99</td>\n",
       "      <td>0.3</td>\n",
       "      <td>1015</td>\n",
       "      <td>Monday</td>\n",
       "      <td>2024-10-28</td>\n",
       "      <td>04:00</td>\n",
       "    </tr>\n",
       "  </tbody>\n",
       "</table>\n",
       "</div>"
      ],
      "text/plain": [
       "      name  temperature symbol weatherDescription               text  \\\n",
       "0  Athenry           14    46n        Light rain       \"Light rain \"   \n",
       "1  Athenry           14    05n       Rain showers      \"Rain shower\"   \n",
       "2  Athenry           14    05n       Rain showers      \"Rain shower\"   \n",
       "3  Athenry           14    46n        Light rain    \"Light Drizzle \"   \n",
       "4  Athenry           13    46n        Light rain   \"Recent Drizzle \"   \n",
       "\n",
       "   windSpeed windGust cardinalWindDirection  windDirection  humidity  \\\n",
       "0         22        -                    SW            225        97   \n",
       "1         22        -                    SW            225        97   \n",
       "2         20        -                    SW            225        98   \n",
       "3         15        -                     W            270        98   \n",
       "4         17        -                     W            270        99   \n",
       "\n",
       "   rainfall  pressure dayName       date reportTime  \n",
       "0       0.7      1015  Monday 2024-10-28      00:00  \n",
       "1       0.7      1015  Monday 2024-10-28      01:00  \n",
       "2       0.3      1015  Monday 2024-10-28      02:00  \n",
       "3       0.4      1015  Monday 2024-10-28      03:00  \n",
       "4       0.3      1015  Monday 2024-10-28      04:00  "
      ]
     },
     "execution_count": 54,
     "metadata": {},
     "output_type": "execute_result"
    }
   ],
   "source": [
    "# Load the json file, 20241028_145436.json that was downloaded with weather.sh\n",
    "weather_df = pd.read_json('data/weather/20241028_145436.json')\n",
    "\n",
    "# View the first 5 rows of the dataset\n",
    "weather_df.head()"
   ]
  },
  {
   "cell_type": "code",
   "execution_count": 3,
   "metadata": {},
   "outputs": [
    {
     "data": {
      "text/plain": [
       "(15, 15)"
      ]
     },
     "execution_count": 3,
     "metadata": {},
     "output_type": "execute_result"
    }
   ],
   "source": [
    "# Find the number of rows and columns with the shape attribute\n",
    "weather_df.shape"
   ]
  },
  {
   "cell_type": "code",
   "execution_count": 4,
   "metadata": {},
   "outputs": [
    {
     "name": "stdout",
     "output_type": "stream",
     "text": [
      "<class 'pandas.core.frame.DataFrame'>\n",
      "RangeIndex: 15 entries, 0 to 14\n",
      "Data columns (total 15 columns):\n",
      " #   Column                 Non-Null Count  Dtype         \n",
      "---  ------                 --------------  -----         \n",
      " 0   name                   15 non-null     object        \n",
      " 1   temperature            15 non-null     int64         \n",
      " 2   symbol                 15 non-null     object        \n",
      " 3   weatherDescription     15 non-null     object        \n",
      " 4   text                   15 non-null     object        \n",
      " 5   windSpeed              15 non-null     int64         \n",
      " 6   windGust               15 non-null     object        \n",
      " 7   cardinalWindDirection  15 non-null     object        \n",
      " 8   windDirection          15 non-null     int64         \n",
      " 9   humidity               15 non-null     int64         \n",
      " 10  rainfall               15 non-null     float64       \n",
      " 11  pressure               15 non-null     int64         \n",
      " 12  dayName                15 non-null     object        \n",
      " 13  date                   15 non-null     datetime64[ns]\n",
      " 14  reportTime             15 non-null     object        \n",
      "dtypes: datetime64[ns](1), float64(1), int64(5), object(8)\n",
      "memory usage: 1.9+ KB\n"
     ]
    }
   ],
   "source": [
    "# Summary information about the dataset with info() method\n",
    "# Column names, datatypes and any missing data.\n",
    "weather_df.info()"
   ]
  },
  {
   "cell_type": "code",
   "execution_count": 5,
   "metadata": {},
   "outputs": [
    {
     "data": {
      "text/plain": [
       "0"
      ]
     },
     "execution_count": 5,
     "metadata": {},
     "output_type": "execute_result"
    }
   ],
   "source": [
    "# check for duplicate rows\n",
    "weather_df.duplicated().sum()"
   ]
  },
  {
   "cell_type": "code",
   "execution_count": 6,
   "metadata": {},
   "outputs": [
    {
     "data": {
      "text/html": [
       "<div>\n",
       "<style scoped>\n",
       "    .dataframe tbody tr th:only-of-type {\n",
       "        vertical-align: middle;\n",
       "    }\n",
       "\n",
       "    .dataframe tbody tr th {\n",
       "        vertical-align: top;\n",
       "    }\n",
       "\n",
       "    .dataframe thead th {\n",
       "        text-align: right;\n",
       "    }\n",
       "</style>\n",
       "<table border=\"1\" class=\"dataframe\">\n",
       "  <thead>\n",
       "    <tr style=\"text-align: right;\">\n",
       "      <th></th>\n",
       "      <th>temperature</th>\n",
       "      <th>windSpeed</th>\n",
       "      <th>windDirection</th>\n",
       "      <th>humidity</th>\n",
       "      <th>rainfall</th>\n",
       "      <th>pressure</th>\n",
       "      <th>date</th>\n",
       "    </tr>\n",
       "  </thead>\n",
       "  <tbody>\n",
       "    <tr>\n",
       "      <th>count</th>\n",
       "      <td>15.000000</td>\n",
       "      <td>15.000000</td>\n",
       "      <td>15.00000</td>\n",
       "      <td>15.000000</td>\n",
       "      <td>15.000000</td>\n",
       "      <td>15.000000</td>\n",
       "      <td>15</td>\n",
       "    </tr>\n",
       "    <tr>\n",
       "      <th>mean</th>\n",
       "      <td>13.600000</td>\n",
       "      <td>13.866667</td>\n",
       "      <td>261.00000</td>\n",
       "      <td>94.466667</td>\n",
       "      <td>0.187333</td>\n",
       "      <td>1016.466667</td>\n",
       "      <td>2024-10-28 00:00:00</td>\n",
       "    </tr>\n",
       "    <tr>\n",
       "      <th>min</th>\n",
       "      <td>13.000000</td>\n",
       "      <td>7.000000</td>\n",
       "      <td>225.00000</td>\n",
       "      <td>81.000000</td>\n",
       "      <td>0.000000</td>\n",
       "      <td>1015.000000</td>\n",
       "      <td>2024-10-28 00:00:00</td>\n",
       "    </tr>\n",
       "    <tr>\n",
       "      <th>25%</th>\n",
       "      <td>13.000000</td>\n",
       "      <td>11.000000</td>\n",
       "      <td>270.00000</td>\n",
       "      <td>93.500000</td>\n",
       "      <td>0.000000</td>\n",
       "      <td>1015.000000</td>\n",
       "      <td>2024-10-28 00:00:00</td>\n",
       "    </tr>\n",
       "    <tr>\n",
       "      <th>50%</th>\n",
       "      <td>14.000000</td>\n",
       "      <td>13.000000</td>\n",
       "      <td>270.00000</td>\n",
       "      <td>97.000000</td>\n",
       "      <td>0.100000</td>\n",
       "      <td>1016.000000</td>\n",
       "      <td>2024-10-28 00:00:00</td>\n",
       "    </tr>\n",
       "    <tr>\n",
       "      <th>75%</th>\n",
       "      <td>14.000000</td>\n",
       "      <td>16.000000</td>\n",
       "      <td>270.00000</td>\n",
       "      <td>98.000000</td>\n",
       "      <td>0.300000</td>\n",
       "      <td>1018.000000</td>\n",
       "      <td>2024-10-28 00:00:00</td>\n",
       "    </tr>\n",
       "    <tr>\n",
       "      <th>max</th>\n",
       "      <td>15.000000</td>\n",
       "      <td>22.000000</td>\n",
       "      <td>270.00000</td>\n",
       "      <td>99.000000</td>\n",
       "      <td>0.700000</td>\n",
       "      <td>1019.000000</td>\n",
       "      <td>2024-10-28 00:00:00</td>\n",
       "    </tr>\n",
       "    <tr>\n",
       "      <th>std</th>\n",
       "      <td>0.632456</td>\n",
       "      <td>4.596065</td>\n",
       "      <td>18.63177</td>\n",
       "      <td>5.755329</td>\n",
       "      <td>0.244028</td>\n",
       "      <td>1.597617</td>\n",
       "      <td>NaN</td>\n",
       "    </tr>\n",
       "  </tbody>\n",
       "</table>\n",
       "</div>"
      ],
      "text/plain": [
       "       temperature  windSpeed  windDirection   humidity   rainfall  \\\n",
       "count    15.000000  15.000000       15.00000  15.000000  15.000000   \n",
       "mean     13.600000  13.866667      261.00000  94.466667   0.187333   \n",
       "min      13.000000   7.000000      225.00000  81.000000   0.000000   \n",
       "25%      13.000000  11.000000      270.00000  93.500000   0.000000   \n",
       "50%      14.000000  13.000000      270.00000  97.000000   0.100000   \n",
       "75%      14.000000  16.000000      270.00000  98.000000   0.300000   \n",
       "max      15.000000  22.000000      270.00000  99.000000   0.700000   \n",
       "std       0.632456   4.596065       18.63177   5.755329   0.244028   \n",
       "\n",
       "          pressure                 date  \n",
       "count    15.000000                   15  \n",
       "mean   1016.466667  2024-10-28 00:00:00  \n",
       "min    1015.000000  2024-10-28 00:00:00  \n",
       "25%    1015.000000  2024-10-28 00:00:00  \n",
       "50%    1016.000000  2024-10-28 00:00:00  \n",
       "75%    1018.000000  2024-10-28 00:00:00  \n",
       "max    1019.000000  2024-10-28 00:00:00  \n",
       "std       1.597617                  NaN  "
      ]
     },
     "execution_count": 6,
     "metadata": {},
     "output_type": "execute_result"
    }
   ],
   "source": [
    "# Use describe method for a summary of the numerical data in the dataset.\n",
    "weather_df.describe()"
   ]
  },
  {
   "cell_type": "code",
   "execution_count": 7,
   "metadata": {},
   "outputs": [
    {
     "data": {
      "text/plain": [
       "name                     0\n",
       "temperature              0\n",
       "symbol                   0\n",
       "weatherDescription       0\n",
       "text                     0\n",
       "windSpeed                0\n",
       "windGust                 0\n",
       "cardinalWindDirection    0\n",
       "windDirection            0\n",
       "humidity                 0\n",
       "rainfall                 0\n",
       "pressure                 0\n",
       "dayName                  0\n",
       "date                     0\n",
       "reportTime               0\n",
       "dtype: int64"
      ]
     },
     "execution_count": 7,
     "metadata": {},
     "output_type": "execute_result"
    }
   ],
   "source": [
    "weather_df.isnull().sum()"
   ]
  },
  {
   "cell_type": "code",
   "execution_count": null,
   "metadata": {},
   "outputs": [
    {
     "name": "stdout",
     "output_type": "stream",
     "text": [
      "The range of reportTime column is 00:00 - 14:00\n"
     ]
    }
   ],
   "source": [
    "# Get the min and max values in the reportTime column.\n",
    "print(\"The range of reportTime column is\", weather_df['reportTime'].min(), \"-\", weather_df['reportTime'].max())"
   ]
  },
  {
   "cell_type": "code",
   "execution_count": 18,
   "metadata": {},
   "outputs": [
    {
     "data": {
      "text/plain": [
       "0.18733333333333332"
      ]
     },
     "execution_count": 18,
     "metadata": {},
     "output_type": "execute_result"
    }
   ],
   "source": [
    "weather_df['rainfall'].mean()"
   ]
  },
  {
   "cell_type": "code",
   "execution_count": 29,
   "metadata": {},
   "outputs": [
    {
     "data": {
      "text/plain": [
       "weatherDescription\n",
       "Light rain      6\n",
       "Cloudy          4\n",
       "Rain showers    3\n",
       "Fog / Mist      1\n",
       "Fair            1\n",
       "Name: count, dtype: int64"
      ]
     },
     "execution_count": 29,
     "metadata": {},
     "output_type": "execute_result"
    }
   ],
   "source": [
    "weather_df['weatherDescription'].value_counts()"
   ]
  },
  {
   "cell_type": "code",
   "execution_count": 30,
   "metadata": {},
   "outputs": [
    {
     "data": {
      "text/plain": [
       "text\n",
       "\"Cloudy\"             4\n",
       "\"Rain shower\"        3\n",
       "\"Recent Drizzle \"    3\n",
       "\"Light rain \"        2\n",
       "\"Light Drizzle \"     1\n",
       "\"Mist\"               1\n",
       "\"Fair\"               1\n",
       "Name: count, dtype: int64"
      ]
     },
     "execution_count": 30,
     "metadata": {},
     "output_type": "execute_result"
    }
   ],
   "source": [
    "weather_df['text'].value_counts()"
   ]
  },
  {
   "cell_type": "code",
   "execution_count": 26,
   "metadata": {},
   "outputs": [
    {
     "data": {
      "image/png": "[encoded data removed]",
      "text/plain": [
       "<Figure size 640x480 with 1 Axes>"
      ]
     },
     "metadata": {},
     "output_type": "display_data"
    }
   ],
   "source": [
    "sns.countplot(data=weather_df, x ='weatherDescription')\n",
    "plt.show()"
   ]
  },
  {
   "cell_type": "markdown",
   "metadata": {},
   "source": [
    "### Analysis of 20241028_145436.json\n",
    "\n",
    "The json files downloaded with weather.sh contains weather data for 28th October, 2024 from 12 midnight to 2pm for the Athenry weather station. It has 15 rows and 15 columns. Each row has all the weather information for a given time.\n",
    "\n",
    "The average temperature for this time period was 14°C, with a range of 13°C - 15°C. There was a southwesterly wind with an average wind speed of 13 knots/hour. There was 'light rain' with average rainfall of 0.18mm."
   ]
  },
  {
   "cell_type": "code",
   "execution_count": null,
   "metadata": {},
   "outputs": [
    {
     "data": {
      "image/png": "[encoded data removed]",
      "text/plain": [
       "<Figure size 640x480 with 1 Axes>"
      ]
     },
     "metadata": {},
     "output_type": "display_data"
    }
   ],
   "source": [
    "# Plot wind, rainfall and temperature on same plot\n",
    "# IMPROVE\n",
    "sns.lineplot(data = weather_df, x = 'reportTime', y = 'temperature', legend= True)\n",
    "sns.lineplot(data = weather_df, x = 'reportTime', y = 'windSpeed', legend= True)\n",
    "sns.lineplot(data = weather_df, x = 'reportTime', y = 'rainfall', legend= True)\n",
    "\n",
    "plt.title('Plot of Temperature. Wind Speed and Rainfall')\n",
    "plt.xticks(rotation = 90)\n",
    "plt.show()"
   ]
  },
  {
   "cell_type": "markdown",
   "metadata": {},
   "source": [
    "## Project\n",
    "\n",
    "Project brief: Automate weather.sh to run daily at 10am and push the new data to my repository. \n",
    "\n",
    "To complete this project the following steps were carried out:\n",
    "\n",
    "Create a GitHub Actions Workflow\n",
    "    .github/workflows containing a file, weather-data.yml\n",
    "\n",
    "The workflow file, weather-data.yml contains the following information:\n",
    "run daily at 10am. Schedule the event with cron and include a workflow_dispatch event\n",
    "use a Ubuntu virtual machine\n",
    "have the workflow clone the repository\n",
    "execute weather.sh script \n",
    "commit and push the changes back to the repository\n",
    "\n",
    "Test the workflow using workflow_dispatch\n",
    "\n",
    "didn't run initally.\n",
    "Had to change permissions in GitHub actions\n",
    "logs show new file added. Today, script ran and pushed the downloaded data to github repository\n",
    "\n",
    "EXPLAIN yml file.\n",
    "YML files define sequences of actions and configurations in an easily understandable form (https://www.ibm.com/topics/yaml)\n",
    "EXPLAIN cron\n",
    "Explain workflow-dispatch\n",
    "why does it need to clone the repository, \n",
    "purpose of requirements.txt\n",
    "execute the script, permissions were correct. SOme yml files need use chmod to change permissions\n",
    "commit and push the changes to the repository\n",
    "\n",
    "\n",
    "\n",
    "__References_\n",
    "Week lectures in computer_infrastructure\n",
    "chatGPT\n"
   ]
  },
  {
   "cell_type": "markdown",
   "metadata": {},
   "source": [
    "yml file \n",
    "\n",
    "needed to update permissions in the Actions section on github to get it to run. WIll it run tomorrow morning?! Yes it did! "
   ]
  },
  {
   "cell_type": "markdown",
   "metadata": {},
   "source": [
    "## References\n",
    "\n",
    "https://ubuntu.com/tutorials/command-line-for-beginners\n",
    "\n",
    "[Linux operators and more](https://www.networkworld.com/article/2516127/linux-operators-using-and-many-more.html)\n",
    "\n",
    "youTube Corey Schafer Linux/Mac Terminal Tutorial: Navigating your Filesystem https://www.youtube.com/watch?v=j6vKLJxAKfw&list=PL-osiE80TeTvGhHkpvfmKWOiIPF8UVy6c"
   ]
  },
  {
   "cell_type": "markdown",
   "metadata": {},
   "source": [
    "End\n",
    "\n",
    "***"
   ]
  }
 ],
 "metadata": {
  "kernelspec": {
   "display_name": "Python 3",
   "language": "python",
   "name": "python3"
  },
  "language_info": {
   "codemirror_mode": {
    "name": "ipython",
    "version": 3
   },
   "file_extension": ".py",
   "mimetype": "text/x-python",
   "name": "python",
   "nbconvert_exporter": "python",
   "pygments_lexer": "ipython3",
   "version": "3.12.1"
  }
 },
 "nbformat": 4,
 "nbformat_minor": 2
}
